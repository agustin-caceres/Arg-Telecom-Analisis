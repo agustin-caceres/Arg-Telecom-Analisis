{
 "cells": [
  {
   "cell_type": "markdown",
   "metadata": {},
   "source": [
    "## **PROCESO DE ETL**\n",
    "### PARA EL DATASET *Internet*\n",
    "\n",
    "--- --- ---\n"
   ]
  },
  {
   "cell_type": "markdown",
   "metadata": {},
   "source": [
    "#### **CARGA DE DATOS**"
   ]
  },
  {
   "cell_type": "code",
   "execution_count": 1,
   "metadata": {},
   "outputs": [],
   "source": [
    "import pandas as pd"
   ]
  },
  {
   "cell_type": "code",
   "execution_count": 2,
   "metadata": {},
   "outputs": [],
   "source": [
    "dataset_excel = 'datasets\\original_datasets\\Internet.xlsx'"
   ]
  },
  {
   "cell_type": "code",
   "execution_count": 3,
   "metadata": {},
   "outputs": [
    {
     "name": "stdout",
     "output_type": "stream",
     "text": [
      "['Acc_vel_loc_sinrangos', 'Velocidad_sin_Rangos', 'Accesos_tecnologia_localidad', 'Velocidad % por prov', 'Totales VMD', 'Totales Accesos Por Tecnología', 'Accesos Por Tecnología', 'Penetración-poblacion', 'Penetracion-hogares', 'Penetracion-totales', 'Totales Accesos por velocidad', 'Accesos por velocidad', 'Dial-BAf', 'Totales Dial-BAf', 'Ingresos ']\n"
     ]
    }
   ],
   "source": [
    "# Se obtiene el nombre de todas las hojas\n",
    "xls = pd.ExcelFile(dataset_excel)\n",
    "print(xls.sheet_names)\n"
   ]
  },
  {
   "cell_type": "markdown",
   "metadata": {},
   "source": [
    "#### **DECISIÓN INICIAL: Selección de Hojas Relevantes para el Análisis**\n",
    "\n",
    "#### Esta selección se ha realizado teniendo en cuenta los objetivos y la necesidad de generar insights útiles para el desarrollo del dashboard y el cálculo de KPIs.\n",
    "\n",
    "- ***Acc_vel_loc_sinrangos***: Proporciona una visión detallada de los accesos a internet por localidad, lo cual es crucial para analizar el comportamiento a nivel regional y detectar áreas de mejora.\n",
    "\n",
    "- ***Accesos_tecnologia_localidad***: Permite identificar las tecnologías predominantes en distintas localidades, un dato importante para optimizar la oferta de servicios.\n",
    "- ***Accesos por velocidad***: Ayuda a evaluar la calidad del servicio de internet, considerando las velocidades de conexión en distintas zonas.\n",
    "- ***Penetracion-poblacion***: Indicador clave para medir el alcance de los servicios de internet en la población general.\n",
    "- ***Penetracion-hogares***: Complementa el análisis de penetración, enfocado en hogares, lo que es fundamental para conocer la expansión en este sector.\n",
    "- ***Ingresos***: Aporta información económica sobre el rendimiento del servicio de internet, clave para evaluar su viabilidad y crecimiento.\n",
    "- ***Velocidad % por prov***: Proporciona una distribución porcentual de la velocidad de conexión por provincia, esencial para comparar la calidad del servicio a nivel nacional.\n",
    "\n",
    "#### Se realiza una inspección inicial para cada una de ellas, comprendiendo **distribuciones**, **outliers** y **valores nulos**"
   ]
  },
  {
   "cell_type": "code",
   "execution_count": 18,
   "metadata": {},
   "outputs": [],
   "source": [
    "# Hojas más importantes\n",
    "df_acc_vel_loc = pd.read_excel(dataset_excel, sheet_name='Acc_vel_loc_sinrangos')\n",
    "df_accesos_tecnologia = pd.read_excel(dataset_excel, sheet_name='Accesos_tecnologia_localidad')\n",
    "df_accesos_velocidad = pd.read_excel(dataset_excel, sheet_name='Accesos por velocidad')\n",
    "df_penetracion_poblacion = pd.read_excel(dataset_excel, sheet_name='Penetración-poblacion')\n",
    "df_penetracion_hogares = pd.read_excel(dataset_excel, sheet_name='Penetracion-hogares')\n",
    "df_ingresos = pd.read_excel(dataset_excel, sheet_name='Ingresos ')\n",
    "df_velocidad_prov = pd.read_excel(dataset_excel, sheet_name='Velocidad % por prov')"
   ]
  },
  {
   "cell_type": "markdown",
   "metadata": {},
   "source": [
    "-----"
   ]
  },
  {
   "cell_type": "markdown",
   "metadata": {},
   "source": [
    "### **``df_acc_vel_loc``**: visión detallada de los accesos a internet por localidad."
   ]
  },
  {
   "cell_type": "markdown",
   "metadata": {},
   "source": [
    "#### **Estructura**: \n",
    "- #### Se observan 125 columnas, representando las velocidades de conexión en diferentes Mbps."
   ]
  },
  {
   "cell_type": "code",
   "execution_count": 29,
   "metadata": {},
   "outputs": [
    {
     "data": {
      "text/plain": [
       "(3065, 125)"
      ]
     },
     "execution_count": 29,
     "metadata": {},
     "output_type": "execute_result"
    }
   ],
   "source": [
    "df_acc_vel_loc.shape"
   ]
  },
  {
   "cell_type": "code",
   "execution_count": 27,
   "metadata": {},
   "outputs": [
    {
     "data": {
      "text/plain": [
       "Index(['Provincia', 'Partido', 'Localidad', 'Link Indec', 'Otros',\n",
       "       '0,256 Mbps', '0,5 Mbps', '0,512 Mbps', '0,75 Mbps', '1 Mbps',\n",
       "       ...\n",
       "       '680 Mbps', '700 Mbps', '800 Mbps', '850 Mbps', '900 Mbps', '999 Mbps',\n",
       "       '1000 Mbps', '1024 Mbps', '4000 Mbps', '10000 Mbps'],\n",
       "      dtype='object', length=125)"
      ]
     },
     "execution_count": 27,
     "metadata": {},
     "output_type": "execute_result"
    }
   ],
   "source": [
    "df_acc_vel_loc.columns"
   ]
  },
  {
   "cell_type": "code",
   "execution_count": 28,
   "metadata": {},
   "outputs": [
    {
     "data": {
      "text/html": [
       "<div>\n",
       "<style scoped>\n",
       "    .dataframe tbody tr th:only-of-type {\n",
       "        vertical-align: middle;\n",
       "    }\n",
       "\n",
       "    .dataframe tbody tr th {\n",
       "        vertical-align: top;\n",
       "    }\n",
       "\n",
       "    .dataframe thead th {\n",
       "        text-align: right;\n",
       "    }\n",
       "</style>\n",
       "<table border=\"1\" class=\"dataframe\">\n",
       "  <thead>\n",
       "    <tr style=\"text-align: right;\">\n",
       "      <th></th>\n",
       "      <th>Provincia</th>\n",
       "      <th>Partido</th>\n",
       "      <th>Localidad</th>\n",
       "      <th>Link Indec</th>\n",
       "      <th>Otros</th>\n",
       "      <th>0,256 Mbps</th>\n",
       "      <th>0,5 Mbps</th>\n",
       "      <th>0,512 Mbps</th>\n",
       "      <th>0,75 Mbps</th>\n",
       "      <th>1 Mbps</th>\n",
       "      <th>...</th>\n",
       "      <th>680 Mbps</th>\n",
       "      <th>700 Mbps</th>\n",
       "      <th>800 Mbps</th>\n",
       "      <th>850 Mbps</th>\n",
       "      <th>900 Mbps</th>\n",
       "      <th>999 Mbps</th>\n",
       "      <th>1000 Mbps</th>\n",
       "      <th>1024 Mbps</th>\n",
       "      <th>4000 Mbps</th>\n",
       "      <th>10000 Mbps</th>\n",
       "    </tr>\n",
       "  </thead>\n",
       "  <tbody>\n",
       "    <tr>\n",
       "      <th>0</th>\n",
       "      <td>BUENOS AIRES</td>\n",
       "      <td>25 de Mayo</td>\n",
       "      <td>25 de Mayo</td>\n",
       "      <td>6854100</td>\n",
       "      <td>NaN</td>\n",
       "      <td>NaN</td>\n",
       "      <td>2.0</td>\n",
       "      <td>NaN</td>\n",
       "      <td>19.0</td>\n",
       "      <td>NaN</td>\n",
       "      <td>...</td>\n",
       "      <td>NaN</td>\n",
       "      <td>NaN</td>\n",
       "      <td>NaN</td>\n",
       "      <td>NaN</td>\n",
       "      <td>NaN</td>\n",
       "      <td>NaN</td>\n",
       "      <td>NaN</td>\n",
       "      <td>NaN</td>\n",
       "      <td>NaN</td>\n",
       "      <td>NaN</td>\n",
       "    </tr>\n",
       "    <tr>\n",
       "      <th>1</th>\n",
       "      <td>BUENOS AIRES</td>\n",
       "      <td>25 de Mayo</td>\n",
       "      <td>Agustín Mosconi</td>\n",
       "      <td>6854010</td>\n",
       "      <td>NaN</td>\n",
       "      <td>NaN</td>\n",
       "      <td>NaN</td>\n",
       "      <td>NaN</td>\n",
       "      <td>NaN</td>\n",
       "      <td>NaN</td>\n",
       "      <td>...</td>\n",
       "      <td>NaN</td>\n",
       "      <td>NaN</td>\n",
       "      <td>NaN</td>\n",
       "      <td>NaN</td>\n",
       "      <td>NaN</td>\n",
       "      <td>NaN</td>\n",
       "      <td>NaN</td>\n",
       "      <td>NaN</td>\n",
       "      <td>NaN</td>\n",
       "      <td>NaN</td>\n",
       "    </tr>\n",
       "    <tr>\n",
       "      <th>2</th>\n",
       "      <td>BUENOS AIRES</td>\n",
       "      <td>25 de Mayo</td>\n",
       "      <td>Del Valle</td>\n",
       "      <td>6854020</td>\n",
       "      <td>NaN</td>\n",
       "      <td>NaN</td>\n",
       "      <td>1.0</td>\n",
       "      <td>NaN</td>\n",
       "      <td>NaN</td>\n",
       "      <td>NaN</td>\n",
       "      <td>...</td>\n",
       "      <td>NaN</td>\n",
       "      <td>NaN</td>\n",
       "      <td>NaN</td>\n",
       "      <td>NaN</td>\n",
       "      <td>NaN</td>\n",
       "      <td>NaN</td>\n",
       "      <td>NaN</td>\n",
       "      <td>NaN</td>\n",
       "      <td>NaN</td>\n",
       "      <td>NaN</td>\n",
       "    </tr>\n",
       "    <tr>\n",
       "      <th>3</th>\n",
       "      <td>BUENOS AIRES</td>\n",
       "      <td>25 de Mayo</td>\n",
       "      <td>Ernestina</td>\n",
       "      <td>6854030</td>\n",
       "      <td>NaN</td>\n",
       "      <td>NaN</td>\n",
       "      <td>NaN</td>\n",
       "      <td>NaN</td>\n",
       "      <td>NaN</td>\n",
       "      <td>NaN</td>\n",
       "      <td>...</td>\n",
       "      <td>NaN</td>\n",
       "      <td>NaN</td>\n",
       "      <td>NaN</td>\n",
       "      <td>NaN</td>\n",
       "      <td>NaN</td>\n",
       "      <td>NaN</td>\n",
       "      <td>NaN</td>\n",
       "      <td>NaN</td>\n",
       "      <td>NaN</td>\n",
       "      <td>NaN</td>\n",
       "    </tr>\n",
       "    <tr>\n",
       "      <th>4</th>\n",
       "      <td>BUENOS AIRES</td>\n",
       "      <td>25 de Mayo</td>\n",
       "      <td>Gobernador Ugarte</td>\n",
       "      <td>6854040</td>\n",
       "      <td>NaN</td>\n",
       "      <td>NaN</td>\n",
       "      <td>NaN</td>\n",
       "      <td>NaN</td>\n",
       "      <td>NaN</td>\n",
       "      <td>NaN</td>\n",
       "      <td>...</td>\n",
       "      <td>NaN</td>\n",
       "      <td>NaN</td>\n",
       "      <td>NaN</td>\n",
       "      <td>NaN</td>\n",
       "      <td>NaN</td>\n",
       "      <td>NaN</td>\n",
       "      <td>NaN</td>\n",
       "      <td>NaN</td>\n",
       "      <td>NaN</td>\n",
       "      <td>NaN</td>\n",
       "    </tr>\n",
       "  </tbody>\n",
       "</table>\n",
       "<p>5 rows × 125 columns</p>\n",
       "</div>"
      ],
      "text/plain": [
       "      Provincia     Partido          Localidad Link Indec  Otros  0,256 Mbps  \\\n",
       "0  BUENOS AIRES  25 de Mayo         25 de Mayo    6854100    NaN         NaN   \n",
       "1  BUENOS AIRES  25 de Mayo    Agustín Mosconi    6854010    NaN         NaN   \n",
       "2  BUENOS AIRES  25 de Mayo          Del Valle    6854020    NaN         NaN   \n",
       "3  BUENOS AIRES  25 de Mayo          Ernestina    6854030    NaN         NaN   \n",
       "4  BUENOS AIRES  25 de Mayo  Gobernador Ugarte    6854040    NaN         NaN   \n",
       "\n",
       "   0,5 Mbps  0,512 Mbps  0,75 Mbps  1 Mbps  ...  680 Mbps  700 Mbps  800 Mbps  \\\n",
       "0       2.0         NaN       19.0     NaN  ...       NaN       NaN       NaN   \n",
       "1       NaN         NaN        NaN     NaN  ...       NaN       NaN       NaN   \n",
       "2       1.0         NaN        NaN     NaN  ...       NaN       NaN       NaN   \n",
       "3       NaN         NaN        NaN     NaN  ...       NaN       NaN       NaN   \n",
       "4       NaN         NaN        NaN     NaN  ...       NaN       NaN       NaN   \n",
       "\n",
       "   850 Mbps  900 Mbps  999 Mbps  1000 Mbps  1024 Mbps  4000 Mbps  10000 Mbps  \n",
       "0       NaN       NaN       NaN        NaN        NaN        NaN         NaN  \n",
       "1       NaN       NaN       NaN        NaN        NaN        NaN         NaN  \n",
       "2       NaN       NaN       NaN        NaN        NaN        NaN         NaN  \n",
       "3       NaN       NaN       NaN        NaN        NaN        NaN         NaN  \n",
       "4       NaN       NaN       NaN        NaN        NaN        NaN         NaN  \n",
       "\n",
       "[5 rows x 125 columns]"
      ]
     },
     "execution_count": 28,
     "metadata": {},
     "output_type": "execute_result"
    }
   ],
   "source": [
    "df_acc_vel_loc.head(5)"
   ]
  },
  {
   "cell_type": "code",
   "execution_count": 10,
   "metadata": {},
   "outputs": [
    {
     "name": "stdout",
     "output_type": "stream",
     "text": [
      "<class 'pandas.core.frame.DataFrame'>\n",
      "RangeIndex: 3065 entries, 0 to 3064\n",
      "Columns: 125 entries, Provincia to 10000 Mbps\n",
      "dtypes: float64(121), object(4)\n",
      "memory usage: 2.9+ MB\n"
     ]
    }
   ],
   "source": [
    "df_acc_vel_loc.info()"
   ]
  },
  {
   "cell_type": "code",
   "execution_count": 21,
   "metadata": {},
   "outputs": [
    {
     "data": {
      "text/html": [
       "<div>\n",
       "<style scoped>\n",
       "    .dataframe tbody tr th:only-of-type {\n",
       "        vertical-align: middle;\n",
       "    }\n",
       "\n",
       "    .dataframe tbody tr th {\n",
       "        vertical-align: top;\n",
       "    }\n",
       "\n",
       "    .dataframe thead th {\n",
       "        text-align: right;\n",
       "    }\n",
       "</style>\n",
       "<table border=\"1\" class=\"dataframe\">\n",
       "  <thead>\n",
       "    <tr style=\"text-align: right;\">\n",
       "      <th></th>\n",
       "      <th>Otros</th>\n",
       "      <th>0,256 Mbps</th>\n",
       "      <th>0,5 Mbps</th>\n",
       "      <th>0,512 Mbps</th>\n",
       "      <th>0,75 Mbps</th>\n",
       "      <th>1 Mbps</th>\n",
       "      <th>1,5 Mbps</th>\n",
       "      <th>2 Mbps</th>\n",
       "      <th>2,2 Mbps</th>\n",
       "      <th>2,5 Mbps</th>\n",
       "      <th>...</th>\n",
       "      <th>680 Mbps</th>\n",
       "      <th>700 Mbps</th>\n",
       "      <th>800 Mbps</th>\n",
       "      <th>850 Mbps</th>\n",
       "      <th>900 Mbps</th>\n",
       "      <th>999 Mbps</th>\n",
       "      <th>1000 Mbps</th>\n",
       "      <th>1024 Mbps</th>\n",
       "      <th>4000 Mbps</th>\n",
       "      <th>10000 Mbps</th>\n",
       "    </tr>\n",
       "  </thead>\n",
       "  <tbody>\n",
       "    <tr>\n",
       "      <th>count</th>\n",
       "      <td>1030.000000</td>\n",
       "      <td>36.000000</td>\n",
       "      <td>642.000000</td>\n",
       "      <td>525.000000</td>\n",
       "      <td>284.000000</td>\n",
       "      <td>872.000000</td>\n",
       "      <td>15.000000</td>\n",
       "      <td>677.000000</td>\n",
       "      <td>1.0</td>\n",
       "      <td>4.000000</td>\n",
       "      <td>...</td>\n",
       "      <td>1.0</td>\n",
       "      <td>4.0</td>\n",
       "      <td>4.000000</td>\n",
       "      <td>1.0</td>\n",
       "      <td>1.0</td>\n",
       "      <td>17.000000</td>\n",
       "      <td>420.000000</td>\n",
       "      <td>2.0</td>\n",
       "      <td>1.0</td>\n",
       "      <td>2.000000</td>\n",
       "    </tr>\n",
       "    <tr>\n",
       "      <th>mean</th>\n",
       "      <td>318.614563</td>\n",
       "      <td>2.944444</td>\n",
       "      <td>42.978193</td>\n",
       "      <td>2.100952</td>\n",
       "      <td>39.588028</td>\n",
       "      <td>66.642202</td>\n",
       "      <td>132.533333</td>\n",
       "      <td>101.428360</td>\n",
       "      <td>18.0</td>\n",
       "      <td>156.500000</td>\n",
       "      <td>...</td>\n",
       "      <td>5.0</td>\n",
       "      <td>1.0</td>\n",
       "      <td>153.500000</td>\n",
       "      <td>1.0</td>\n",
       "      <td>110.0</td>\n",
       "      <td>3.352941</td>\n",
       "      <td>609.683333</td>\n",
       "      <td>1.0</td>\n",
       "      <td>1.0</td>\n",
       "      <td>5.000000</td>\n",
       "    </tr>\n",
       "    <tr>\n",
       "      <th>std</th>\n",
       "      <td>2964.939611</td>\n",
       "      <td>5.806127</td>\n",
       "      <td>985.466627</td>\n",
       "      <td>4.684645</td>\n",
       "      <td>118.563946</td>\n",
       "      <td>222.345674</td>\n",
       "      <td>291.222268</td>\n",
       "      <td>278.821468</td>\n",
       "      <td>NaN</td>\n",
       "      <td>212.528429</td>\n",
       "      <td>...</td>\n",
       "      <td>NaN</td>\n",
       "      <td>0.0</td>\n",
       "      <td>273.381906</td>\n",
       "      <td>NaN</td>\n",
       "      <td>NaN</td>\n",
       "      <td>5.700232</td>\n",
       "      <td>3431.387543</td>\n",
       "      <td>0.0</td>\n",
       "      <td>NaN</td>\n",
       "      <td>5.656854</td>\n",
       "    </tr>\n",
       "    <tr>\n",
       "      <th>min</th>\n",
       "      <td>-15.000000</td>\n",
       "      <td>1.000000</td>\n",
       "      <td>0.000000</td>\n",
       "      <td>1.000000</td>\n",
       "      <td>1.000000</td>\n",
       "      <td>0.000000</td>\n",
       "      <td>7.000000</td>\n",
       "      <td>1.000000</td>\n",
       "      <td>18.0</td>\n",
       "      <td>21.000000</td>\n",
       "      <td>...</td>\n",
       "      <td>5.0</td>\n",
       "      <td>1.0</td>\n",
       "      <td>1.000000</td>\n",
       "      <td>1.0</td>\n",
       "      <td>110.0</td>\n",
       "      <td>1.000000</td>\n",
       "      <td>1.000000</td>\n",
       "      <td>1.0</td>\n",
       "      <td>1.0</td>\n",
       "      <td>1.000000</td>\n",
       "    </tr>\n",
       "    <tr>\n",
       "      <th>25%</th>\n",
       "      <td>1.000000</td>\n",
       "      <td>1.000000</td>\n",
       "      <td>1.000000</td>\n",
       "      <td>1.000000</td>\n",
       "      <td>3.000000</td>\n",
       "      <td>2.000000</td>\n",
       "      <td>31.000000</td>\n",
       "      <td>4.000000</td>\n",
       "      <td>18.0</td>\n",
       "      <td>35.250000</td>\n",
       "      <td>...</td>\n",
       "      <td>5.0</td>\n",
       "      <td>1.0</td>\n",
       "      <td>10.750000</td>\n",
       "      <td>1.0</td>\n",
       "      <td>110.0</td>\n",
       "      <td>1.000000</td>\n",
       "      <td>17.000000</td>\n",
       "      <td>1.0</td>\n",
       "      <td>1.0</td>\n",
       "      <td>3.000000</td>\n",
       "    </tr>\n",
       "    <tr>\n",
       "      <th>50%</th>\n",
       "      <td>6.000000</td>\n",
       "      <td>1.000000</td>\n",
       "      <td>1.000000</td>\n",
       "      <td>1.000000</td>\n",
       "      <td>9.500000</td>\n",
       "      <td>10.000000</td>\n",
       "      <td>47.000000</td>\n",
       "      <td>21.000000</td>\n",
       "      <td>18.0</td>\n",
       "      <td>66.500000</td>\n",
       "      <td>...</td>\n",
       "      <td>5.0</td>\n",
       "      <td>1.0</td>\n",
       "      <td>25.000000</td>\n",
       "      <td>1.0</td>\n",
       "      <td>110.0</td>\n",
       "      <td>2.000000</td>\n",
       "      <td>139.500000</td>\n",
       "      <td>1.0</td>\n",
       "      <td>1.0</td>\n",
       "      <td>5.000000</td>\n",
       "    </tr>\n",
       "    <tr>\n",
       "      <th>75%</th>\n",
       "      <td>48.000000</td>\n",
       "      <td>2.000000</td>\n",
       "      <td>2.000000</td>\n",
       "      <td>1.000000</td>\n",
       "      <td>28.000000</td>\n",
       "      <td>40.250000</td>\n",
       "      <td>75.000000</td>\n",
       "      <td>77.000000</td>\n",
       "      <td>18.0</td>\n",
       "      <td>187.750000</td>\n",
       "      <td>...</td>\n",
       "      <td>5.0</td>\n",
       "      <td>1.0</td>\n",
       "      <td>167.750000</td>\n",
       "      <td>1.0</td>\n",
       "      <td>110.0</td>\n",
       "      <td>3.000000</td>\n",
       "      <td>498.000000</td>\n",
       "      <td>1.0</td>\n",
       "      <td>1.0</td>\n",
       "      <td>7.000000</td>\n",
       "    </tr>\n",
       "    <tr>\n",
       "      <th>max</th>\n",
       "      <td>87722.000000</td>\n",
       "      <td>31.000000</td>\n",
       "      <td>24968.000000</td>\n",
       "      <td>61.000000</td>\n",
       "      <td>1307.000000</td>\n",
       "      <td>4111.000000</td>\n",
       "      <td>1170.000000</td>\n",
       "      <td>3530.000000</td>\n",
       "      <td>18.0</td>\n",
       "      <td>472.000000</td>\n",
       "      <td>...</td>\n",
       "      <td>5.0</td>\n",
       "      <td>1.0</td>\n",
       "      <td>563.000000</td>\n",
       "      <td>1.0</td>\n",
       "      <td>110.0</td>\n",
       "      <td>25.000000</td>\n",
       "      <td>68405.000000</td>\n",
       "      <td>1.0</td>\n",
       "      <td>1.0</td>\n",
       "      <td>9.000000</td>\n",
       "    </tr>\n",
       "  </tbody>\n",
       "</table>\n",
       "<p>8 rows × 121 columns</p>\n",
       "</div>"
      ],
      "text/plain": [
       "              Otros  0,256 Mbps      0,5 Mbps  0,512 Mbps    0,75 Mbps  \\\n",
       "count   1030.000000   36.000000    642.000000  525.000000   284.000000   \n",
       "mean     318.614563    2.944444     42.978193    2.100952    39.588028   \n",
       "std     2964.939611    5.806127    985.466627    4.684645   118.563946   \n",
       "min      -15.000000    1.000000      0.000000    1.000000     1.000000   \n",
       "25%        1.000000    1.000000      1.000000    1.000000     3.000000   \n",
       "50%        6.000000    1.000000      1.000000    1.000000     9.500000   \n",
       "75%       48.000000    2.000000      2.000000    1.000000    28.000000   \n",
       "max    87722.000000   31.000000  24968.000000   61.000000  1307.000000   \n",
       "\n",
       "            1 Mbps     1,5 Mbps       2 Mbps  2,2 Mbps    2,5 Mbps  ...  \\\n",
       "count   872.000000    15.000000   677.000000       1.0    4.000000  ...   \n",
       "mean     66.642202   132.533333   101.428360      18.0  156.500000  ...   \n",
       "std     222.345674   291.222268   278.821468       NaN  212.528429  ...   \n",
       "min       0.000000     7.000000     1.000000      18.0   21.000000  ...   \n",
       "25%       2.000000    31.000000     4.000000      18.0   35.250000  ...   \n",
       "50%      10.000000    47.000000    21.000000      18.0   66.500000  ...   \n",
       "75%      40.250000    75.000000    77.000000      18.0  187.750000  ...   \n",
       "max    4111.000000  1170.000000  3530.000000      18.0  472.000000  ...   \n",
       "\n",
       "       680 Mbps  700 Mbps    800 Mbps  850 Mbps  900 Mbps   999 Mbps  \\\n",
       "count       1.0       4.0    4.000000       1.0       1.0  17.000000   \n",
       "mean        5.0       1.0  153.500000       1.0     110.0   3.352941   \n",
       "std         NaN       0.0  273.381906       NaN       NaN   5.700232   \n",
       "min         5.0       1.0    1.000000       1.0     110.0   1.000000   \n",
       "25%         5.0       1.0   10.750000       1.0     110.0   1.000000   \n",
       "50%         5.0       1.0   25.000000       1.0     110.0   2.000000   \n",
       "75%         5.0       1.0  167.750000       1.0     110.0   3.000000   \n",
       "max         5.0       1.0  563.000000       1.0     110.0  25.000000   \n",
       "\n",
       "          1000 Mbps  1024 Mbps  4000 Mbps  10000 Mbps  \n",
       "count    420.000000        2.0        1.0    2.000000  \n",
       "mean     609.683333        1.0        1.0    5.000000  \n",
       "std     3431.387543        0.0        NaN    5.656854  \n",
       "min        1.000000        1.0        1.0    1.000000  \n",
       "25%       17.000000        1.0        1.0    3.000000  \n",
       "50%      139.500000        1.0        1.0    5.000000  \n",
       "75%      498.000000        1.0        1.0    7.000000  \n",
       "max    68405.000000        1.0        1.0    9.000000  \n",
       "\n",
       "[8 rows x 121 columns]"
      ]
     },
     "execution_count": 21,
     "metadata": {},
     "output_type": "execute_result"
    }
   ],
   "source": [
    "df_acc_vel_loc.describe()"
   ]
  },
  {
   "cell_type": "markdown",
   "metadata": {},
   "source": [
    "#### **Valores Nulos**:\n",
    "- #### Se mantienen valores nulos inicialmente, al brindar información para identificar las localidades o provincias con menos acceso a altas velocidades."
   ]
  },
  {
   "cell_type": "code",
   "execution_count": 11,
   "metadata": {},
   "outputs": [],
   "source": [
    "nulls = df_acc_vel_loc.isnull().sum()"
   ]
  },
  {
   "cell_type": "code",
   "execution_count": 12,
   "metadata": {},
   "outputs": [
    {
     "data": {
      "text/plain": [
       "0,256 Mbps    1003\n",
       "0,5 Mbps       720\n",
       "0,512 Mbps     777\n",
       "0,75 Mbps      823\n",
       "1 Mbps         523\n",
       "              ... \n",
       "999 Mbps      1015\n",
       "1000 Mbps      777\n",
       "1024 Mbps     1028\n",
       "4000 Mbps     1028\n",
       "10000 Mbps    1028\n",
       "Length: 120, dtype: int64"
      ]
     },
     "execution_count": 12,
     "metadata": {},
     "output_type": "execute_result"
    }
   ],
   "source": [
    "nulls[nulls > 0]"
   ]
  },
  {
   "cell_type": "markdown",
   "metadata": {},
   "source": [
    "----"
   ]
  },
  {
   "cell_type": "markdown",
   "metadata": {},
   "source": [
    "### **``df_accesos_tecnologia``**: tecnologías predominantes en distintas localidades."
   ]
  },
  {
   "cell_type": "markdown",
   "metadata": {},
   "source": [
    "#### **Estructura**:\n",
    "- #### Se observan 3352 filas y 13 columnas."
   ]
  },
  {
   "cell_type": "code",
   "execution_count": 15,
   "metadata": {},
   "outputs": [
    {
     "data": {
      "text/plain": [
       "(3352, 13)"
      ]
     },
     "execution_count": 15,
     "metadata": {},
     "output_type": "execute_result"
    }
   ],
   "source": [
    "df_accesos_tecnologia.shape"
   ]
  },
  {
   "cell_type": "code",
   "execution_count": 18,
   "metadata": {},
   "outputs": [
    {
     "data": {
      "text/html": [
       "<div>\n",
       "<style scoped>\n",
       "    .dataframe tbody tr th:only-of-type {\n",
       "        vertical-align: middle;\n",
       "    }\n",
       "\n",
       "    .dataframe tbody tr th {\n",
       "        vertical-align: top;\n",
       "    }\n",
       "\n",
       "    .dataframe thead th {\n",
       "        text-align: right;\n",
       "    }\n",
       "</style>\n",
       "<table border=\"1\" class=\"dataframe\">\n",
       "  <thead>\n",
       "    <tr style=\"text-align: right;\">\n",
       "      <th></th>\n",
       "      <th>Provincia</th>\n",
       "      <th>Partido</th>\n",
       "      <th>Localidad</th>\n",
       "      <th>Link Indec</th>\n",
       "      <th>ADSL</th>\n",
       "      <th>CABLEMODEM</th>\n",
       "      <th>DIAL UP</th>\n",
       "      <th>FIBRA OPTICA</th>\n",
       "      <th>OTROS</th>\n",
       "      <th>SATELITAL</th>\n",
       "      <th>WIMAX</th>\n",
       "      <th>WIRELESS</th>\n",
       "      <th>Total general</th>\n",
       "    </tr>\n",
       "  </thead>\n",
       "  <tbody>\n",
       "    <tr>\n",
       "      <th>0</th>\n",
       "      <td>BUENOS AIRES</td>\n",
       "      <td>25 de Mayo</td>\n",
       "      <td>25 de Mayo</td>\n",
       "      <td>6854100</td>\n",
       "      <td>755</td>\n",
       "      <td>4600</td>\n",
       "      <td>0</td>\n",
       "      <td>2</td>\n",
       "      <td>0</td>\n",
       "      <td>742</td>\n",
       "      <td>0</td>\n",
       "      <td>727</td>\n",
       "      <td>6826</td>\n",
       "    </tr>\n",
       "    <tr>\n",
       "      <th>1</th>\n",
       "      <td>BUENOS AIRES</td>\n",
       "      <td>25 de Mayo</td>\n",
       "      <td>Del Valle</td>\n",
       "      <td>6854020</td>\n",
       "      <td>181</td>\n",
       "      <td>0</td>\n",
       "      <td>0</td>\n",
       "      <td>0</td>\n",
       "      <td>10</td>\n",
       "      <td>1</td>\n",
       "      <td>0</td>\n",
       "      <td>0</td>\n",
       "      <td>192</td>\n",
       "    </tr>\n",
       "    <tr>\n",
       "      <th>2</th>\n",
       "      <td>BUENOS AIRES</td>\n",
       "      <td>25 de Mayo</td>\n",
       "      <td>Gobernador Ugarte</td>\n",
       "      <td>6854040</td>\n",
       "      <td>0</td>\n",
       "      <td>0</td>\n",
       "      <td>0</td>\n",
       "      <td>0</td>\n",
       "      <td>0</td>\n",
       "      <td>0</td>\n",
       "      <td>0</td>\n",
       "      <td>181</td>\n",
       "      <td>181</td>\n",
       "    </tr>\n",
       "    <tr>\n",
       "      <th>3</th>\n",
       "      <td>BUENOS AIRES</td>\n",
       "      <td>25 de Mayo</td>\n",
       "      <td>Norberto de la Riestra</td>\n",
       "      <td>6854060</td>\n",
       "      <td>0</td>\n",
       "      <td>782</td>\n",
       "      <td>0</td>\n",
       "      <td>496</td>\n",
       "      <td>16</td>\n",
       "      <td>0</td>\n",
       "      <td>0</td>\n",
       "      <td>185</td>\n",
       "      <td>1479</td>\n",
       "    </tr>\n",
       "    <tr>\n",
       "      <th>4</th>\n",
       "      <td>BUENOS AIRES</td>\n",
       "      <td>25 de Mayo</td>\n",
       "      <td>Lucas Monteverde</td>\n",
       "      <td>6854050</td>\n",
       "      <td>0</td>\n",
       "      <td>0</td>\n",
       "      <td>0</td>\n",
       "      <td>0</td>\n",
       "      <td>0</td>\n",
       "      <td>0</td>\n",
       "      <td>0</td>\n",
       "      <td>6</td>\n",
       "      <td>6</td>\n",
       "    </tr>\n",
       "  </tbody>\n",
       "</table>\n",
       "</div>"
      ],
      "text/plain": [
       "      Provincia     Partido               Localidad Link Indec  ADSL  \\\n",
       "0  BUENOS AIRES  25 de Mayo              25 de Mayo    6854100   755   \n",
       "1  BUENOS AIRES  25 de Mayo               Del Valle    6854020   181   \n",
       "2  BUENOS AIRES  25 de Mayo       Gobernador Ugarte    6854040     0   \n",
       "3  BUENOS AIRES  25 de Mayo  Norberto de la Riestra    6854060     0   \n",
       "4  BUENOS AIRES  25 de Mayo        Lucas Monteverde    6854050     0   \n",
       "\n",
       "   CABLEMODEM  DIAL UP  FIBRA OPTICA  OTROS  SATELITAL  WIMAX  WIRELESS  \\\n",
       "0        4600        0             2      0        742      0       727   \n",
       "1           0        0             0     10          1      0         0   \n",
       "2           0        0             0      0          0      0       181   \n",
       "3         782        0           496     16          0      0       185   \n",
       "4           0        0             0      0          0      0         6   \n",
       "\n",
       "   Total general  \n",
       "0           6826  \n",
       "1            192  \n",
       "2            181  \n",
       "3           1479  \n",
       "4              6  "
      ]
     },
     "execution_count": 18,
     "metadata": {},
     "output_type": "execute_result"
    }
   ],
   "source": [
    "df_accesos_tecnologia.head()"
   ]
  },
  {
   "cell_type": "code",
   "execution_count": 20,
   "metadata": {},
   "outputs": [
    {
     "name": "stdout",
     "output_type": "stream",
     "text": [
      "<class 'pandas.core.frame.DataFrame'>\n",
      "RangeIndex: 3352 entries, 0 to 3351\n",
      "Data columns (total 13 columns):\n",
      " #   Column         Non-Null Count  Dtype \n",
      "---  ------         --------------  ----- \n",
      " 0   Provincia      3072 non-null   object\n",
      " 1   Partido        3072 non-null   object\n",
      " 2   Localidad      3072 non-null   object\n",
      " 3   Link Indec     3072 non-null   object\n",
      " 4   ADSL           3352 non-null   int64 \n",
      " 5   CABLEMODEM     3352 non-null   int64 \n",
      " 6   DIAL UP        3352 non-null   int64 \n",
      " 7   FIBRA OPTICA   3352 non-null   int64 \n",
      " 8   OTROS          3352 non-null   int64 \n",
      " 9   SATELITAL      3352 non-null   int64 \n",
      " 10  WIMAX          3352 non-null   int64 \n",
      " 11  WIRELESS       3352 non-null   int64 \n",
      " 12  Total general  3352 non-null   int64 \n",
      "dtypes: int64(9), object(4)\n",
      "memory usage: 340.6+ KB\n"
     ]
    }
   ],
   "source": [
    "df_accesos_tecnologia.info()"
   ]
  },
  {
   "cell_type": "markdown",
   "metadata": {},
   "source": [
    "#### **Distribuciones**\n",
    "- #### En la columna ``Total general``, hay un rango de valores bastante amplio, con un máximo de 1,504,711 accesos y una media de 3,470 accesos por localidad. Esto sugiere una gran diferencia entre localidades.\n",
    "\n",
    "- #### Algunas tecnologías, como SATELITAL, WIMAX, y WIRELESS, tienen valores mínimos de 0, lo que indica que estas tecnologías no están presentes en todas las localidades."
   ]
  },
  {
   "cell_type": "code",
   "execution_count": 21,
   "metadata": {},
   "outputs": [
    {
     "data": {
      "text/html": [
       "<div>\n",
       "<style scoped>\n",
       "    .dataframe tbody tr th:only-of-type {\n",
       "        vertical-align: middle;\n",
       "    }\n",
       "\n",
       "    .dataframe tbody tr th {\n",
       "        vertical-align: top;\n",
       "    }\n",
       "\n",
       "    .dataframe thead th {\n",
       "        text-align: right;\n",
       "    }\n",
       "</style>\n",
       "<table border=\"1\" class=\"dataframe\">\n",
       "  <thead>\n",
       "    <tr style=\"text-align: right;\">\n",
       "      <th></th>\n",
       "      <th>ADSL</th>\n",
       "      <th>CABLEMODEM</th>\n",
       "      <th>DIAL UP</th>\n",
       "      <th>FIBRA OPTICA</th>\n",
       "      <th>OTROS</th>\n",
       "      <th>SATELITAL</th>\n",
       "      <th>WIMAX</th>\n",
       "      <th>WIRELESS</th>\n",
       "      <th>Total general</th>\n",
       "    </tr>\n",
       "  </thead>\n",
       "  <tbody>\n",
       "    <tr>\n",
       "      <th>count</th>\n",
       "      <td>3352.000000</td>\n",
       "      <td>3.352000e+03</td>\n",
       "      <td>3352.000000</td>\n",
       "      <td>3352.000000</td>\n",
       "      <td>3352.000000</td>\n",
       "      <td>3352.000000</td>\n",
       "      <td>3352.000000</td>\n",
       "      <td>3352.000000</td>\n",
       "      <td>3.352000e+03</td>\n",
       "    </tr>\n",
       "    <tr>\n",
       "      <th>mean</th>\n",
       "      <td>231.048628</td>\n",
       "      <td>1.786085e+03</td>\n",
       "      <td>3.518198</td>\n",
       "      <td>1197.822494</td>\n",
       "      <td>71.906325</td>\n",
       "      <td>0.874105</td>\n",
       "      <td>0.652745</td>\n",
       "      <td>178.604415</td>\n",
       "      <td>3.470512e+03</td>\n",
       "    </tr>\n",
       "    <tr>\n",
       "      <th>std</th>\n",
       "      <td>1550.293816</td>\n",
       "      <td>2.181544e+04</td>\n",
       "      <td>41.351933</td>\n",
       "      <td>8522.597506</td>\n",
       "      <td>1012.885167</td>\n",
       "      <td>13.032554</td>\n",
       "      <td>14.459441</td>\n",
       "      <td>721.026209</td>\n",
       "      <td>3.040984e+04</td>\n",
       "    </tr>\n",
       "    <tr>\n",
       "      <th>min</th>\n",
       "      <td>0.000000</td>\n",
       "      <td>0.000000e+00</td>\n",
       "      <td>0.000000</td>\n",
       "      <td>0.000000</td>\n",
       "      <td>0.000000</td>\n",
       "      <td>0.000000</td>\n",
       "      <td>0.000000</td>\n",
       "      <td>0.000000</td>\n",
       "      <td>0.000000e+00</td>\n",
       "    </tr>\n",
       "    <tr>\n",
       "      <th>25%</th>\n",
       "      <td>0.000000</td>\n",
       "      <td>0.000000e+00</td>\n",
       "      <td>0.000000</td>\n",
       "      <td>0.000000</td>\n",
       "      <td>0.000000</td>\n",
       "      <td>0.000000</td>\n",
       "      <td>0.000000</td>\n",
       "      <td>0.000000</td>\n",
       "      <td>1.175000e+01</td>\n",
       "    </tr>\n",
       "    <tr>\n",
       "      <th>50%</th>\n",
       "      <td>0.000000</td>\n",
       "      <td>0.000000e+00</td>\n",
       "      <td>0.000000</td>\n",
       "      <td>0.000000</td>\n",
       "      <td>0.000000</td>\n",
       "      <td>0.000000</td>\n",
       "      <td>0.000000</td>\n",
       "      <td>19.000000</td>\n",
       "      <td>1.235000e+02</td>\n",
       "    </tr>\n",
       "    <tr>\n",
       "      <th>75%</th>\n",
       "      <td>37.000000</td>\n",
       "      <td>0.000000e+00</td>\n",
       "      <td>0.000000</td>\n",
       "      <td>110.000000</td>\n",
       "      <td>0.000000</td>\n",
       "      <td>1.000000</td>\n",
       "      <td>0.000000</td>\n",
       "      <td>113.000000</td>\n",
       "      <td>8.172500e+02</td>\n",
       "    </tr>\n",
       "    <tr>\n",
       "      <th>max</th>\n",
       "      <td>70108.000000</td>\n",
       "      <td>1.177475e+06</td>\n",
       "      <td>2050.000000</td>\n",
       "      <td>281390.000000</td>\n",
       "      <td>46762.000000</td>\n",
       "      <td>742.000000</td>\n",
       "      <td>444.000000</td>\n",
       "      <td>19906.000000</td>\n",
       "      <td>1.504711e+06</td>\n",
       "    </tr>\n",
       "  </tbody>\n",
       "</table>\n",
       "</div>"
      ],
      "text/plain": [
       "               ADSL    CABLEMODEM      DIAL UP   FIBRA OPTICA         OTROS  \\\n",
       "count   3352.000000  3.352000e+03  3352.000000    3352.000000   3352.000000   \n",
       "mean     231.048628  1.786085e+03     3.518198    1197.822494     71.906325   \n",
       "std     1550.293816  2.181544e+04    41.351933    8522.597506   1012.885167   \n",
       "min        0.000000  0.000000e+00     0.000000       0.000000      0.000000   \n",
       "25%        0.000000  0.000000e+00     0.000000       0.000000      0.000000   \n",
       "50%        0.000000  0.000000e+00     0.000000       0.000000      0.000000   \n",
       "75%       37.000000  0.000000e+00     0.000000     110.000000      0.000000   \n",
       "max    70108.000000  1.177475e+06  2050.000000  281390.000000  46762.000000   \n",
       "\n",
       "         SATELITAL        WIMAX      WIRELESS  Total general  \n",
       "count  3352.000000  3352.000000   3352.000000   3.352000e+03  \n",
       "mean      0.874105     0.652745    178.604415   3.470512e+03  \n",
       "std      13.032554    14.459441    721.026209   3.040984e+04  \n",
       "min       0.000000     0.000000      0.000000   0.000000e+00  \n",
       "25%       0.000000     0.000000      0.000000   1.175000e+01  \n",
       "50%       0.000000     0.000000     19.000000   1.235000e+02  \n",
       "75%       1.000000     0.000000    113.000000   8.172500e+02  \n",
       "max     742.000000   444.000000  19906.000000   1.504711e+06  "
      ]
     },
     "execution_count": 21,
     "metadata": {},
     "output_type": "execute_result"
    }
   ],
   "source": [
    "df_accesos_tecnologia.describe()"
   ]
  },
  {
   "cell_type": "markdown",
   "metadata": {},
   "source": [
    "#### **Valores Nulos**\n",
    "- #### Hay 280 valores nulos en cada una de las columnas de texto (``Provincia``, ``Partido``, ``Localidad``, ``Link Indec``)\n",
    "- #### Se eliminan los valores nulos dado que representan solo un 8% del total y no afectarán significativamente al análisis."
   ]
  },
  {
   "cell_type": "code",
   "execution_count": 29,
   "metadata": {},
   "outputs": [
    {
     "data": {
      "text/plain": [
       "Provincia        280\n",
       "Partido          280\n",
       "Localidad        280\n",
       "Link Indec       280\n",
       "ADSL               0\n",
       "CABLEMODEM         0\n",
       "DIAL UP            0\n",
       "FIBRA OPTICA       0\n",
       "OTROS              0\n",
       "SATELITAL          0\n",
       "WIMAX              0\n",
       "WIRELESS           0\n",
       "Total general      0\n",
       "dtype: int64"
      ]
     },
     "execution_count": 29,
     "metadata": {},
     "output_type": "execute_result"
    }
   ],
   "source": [
    "df_accesos_tecnologia.isnull().sum()"
   ]
  },
  {
   "cell_type": "code",
   "execution_count": 30,
   "metadata": {},
   "outputs": [],
   "source": [
    "# Se eliminan filas con valores nulos en las columnas de texto\n",
    "df_accesos_tecnologia = df_accesos_tecnologia.dropna(subset=['Provincia', 'Partido', 'Localidad', 'Link Indec'])"
   ]
  },
  {
   "cell_type": "code",
   "execution_count": 32,
   "metadata": {},
   "outputs": [
    {
     "name": "stdout",
     "output_type": "stream",
     "text": [
      "Provincia     0\n",
      "Partido       0\n",
      "Localidad     0\n",
      "Link Indec    0\n",
      "dtype: int64\n"
     ]
    }
   ],
   "source": [
    "nulos_texto = df_accesos_tecnologia[['Provincia', 'Partido', 'Localidad', 'Link Indec']].isnull().sum()\n",
    "print(nulos_texto)"
   ]
  },
  {
   "cell_type": "markdown",
   "metadata": {},
   "source": [
    "#### **Outliers**\n",
    "- #### Los valores altos pueden reflejar localidades con muchas conexiones. Dado que representan áreas con muchos accesos podrían ser útiles para el análisis. Por lo tanto se mantienen los outliers."
   ]
  },
  {
   "cell_type": "code",
   "execution_count": 33,
   "metadata": {},
   "outputs": [],
   "source": [
    "import matplotlib.pyplot as plt"
   ]
  },
  {
   "cell_type": "code",
   "execution_count": 34,
   "metadata": {},
   "outputs": [
    {
     "data": {
      "image/png": "[encoded data removed]",
      "text/plain": [
       "<Figure size 1000x600 with 1 Axes>"
      ]
     },
     "metadata": {},
     "output_type": "display_data"
    }
   ],
   "source": [
    "columnas_numericas = df_accesos_tecnologia.select_dtypes(include=['int64'])\n",
    "\n",
    "# Boxplot\n",
    "plt.figure(figsize=(10, 6))\n",
    "columnas_numericas.boxplot()\n",
    "plt.xticks(rotation=45)\n",
    "plt.show()\n"
   ]
  },
  {
   "cell_type": "markdown",
   "metadata": {},
   "source": [
    "---------"
   ]
  },
  {
   "cell_type": "markdown",
   "metadata": {},
   "source": [
    "### **``df_accesos_velocidad``**: calidad del servicio de internet."
   ]
  },
  {
   "cell_type": "markdown",
   "metadata": {},
   "source": [
    "#### **Estructura**:\n",
    "- #### El DataFrame tiene 984 entradas y 12 columnas que representan diferentes rangos de velocidades de conexión a internet."
   ]
  },
  {
   "cell_type": "code",
   "execution_count": 36,
   "metadata": {},
   "outputs": [
    {
     "data": {
      "text/plain": [
       "(984, 12)"
      ]
     },
     "execution_count": 36,
     "metadata": {},
     "output_type": "execute_result"
    }
   ],
   "source": [
    "df_accesos_velocidad.shape"
   ]
  },
  {
   "cell_type": "code",
   "execution_count": 35,
   "metadata": {},
   "outputs": [
    {
     "data": {
      "text/html": [
       "<div>\n",
       "<style scoped>\n",
       "    .dataframe tbody tr th:only-of-type {\n",
       "        vertical-align: middle;\n",
       "    }\n",
       "\n",
       "    .dataframe tbody tr th {\n",
       "        vertical-align: top;\n",
       "    }\n",
       "\n",
       "    .dataframe thead th {\n",
       "        text-align: right;\n",
       "    }\n",
       "</style>\n",
       "<table border=\"1\" class=\"dataframe\">\n",
       "  <thead>\n",
       "    <tr style=\"text-align: right;\">\n",
       "      <th></th>\n",
       "      <th>Año</th>\n",
       "      <th>Trimestre</th>\n",
       "      <th>Provincia</th>\n",
       "      <th>HASTA 512 kbps</th>\n",
       "      <th>+ 512 Kbps - 1 Mbps</th>\n",
       "      <th>+ 1 Mbps - 6 Mbps</th>\n",
       "      <th>+ 6 Mbps - 10 Mbps</th>\n",
       "      <th>+ 10 Mbps - 20 Mbps</th>\n",
       "      <th>+ 20 Mbps - 30 Mbps</th>\n",
       "      <th>+ 30 Mbps</th>\n",
       "      <th>OTROS</th>\n",
       "      <th>Total</th>\n",
       "    </tr>\n",
       "  </thead>\n",
       "  <tbody>\n",
       "    <tr>\n",
       "      <th>0</th>\n",
       "      <td>2024</td>\n",
       "      <td>1</td>\n",
       "      <td>Buenos Aires</td>\n",
       "      <td>26002.0</td>\n",
       "      <td>22510.0</td>\n",
       "      <td>221185.0</td>\n",
       "      <td>233225.0</td>\n",
       "      <td>241778.0</td>\n",
       "      <td>106418.0</td>\n",
       "      <td>4068292.0</td>\n",
       "      <td>125147.0</td>\n",
       "      <td>5044557.0</td>\n",
       "    </tr>\n",
       "    <tr>\n",
       "      <th>1</th>\n",
       "      <td>2024</td>\n",
       "      <td>1</td>\n",
       "      <td>Capital Federal</td>\n",
       "      <td>516.0</td>\n",
       "      <td>5418.0</td>\n",
       "      <td>29753.0</td>\n",
       "      <td>51415.0</td>\n",
       "      <td>37369.0</td>\n",
       "      <td>5957.0</td>\n",
       "      <td>1374283.0</td>\n",
       "      <td>0.0</td>\n",
       "      <td>1504711.0</td>\n",
       "    </tr>\n",
       "    <tr>\n",
       "      <th>2</th>\n",
       "      <td>2024</td>\n",
       "      <td>1</td>\n",
       "      <td>Catamarca</td>\n",
       "      <td>71.0</td>\n",
       "      <td>176.0</td>\n",
       "      <td>2872.0</td>\n",
       "      <td>3424.0</td>\n",
       "      <td>4204.0</td>\n",
       "      <td>1822.0</td>\n",
       "      <td>62294.0</td>\n",
       "      <td>70.0</td>\n",
       "      <td>74933.0</td>\n",
       "    </tr>\n",
       "    <tr>\n",
       "      <th>3</th>\n",
       "      <td>2024</td>\n",
       "      <td>1</td>\n",
       "      <td>Chaco</td>\n",
       "      <td>236.0</td>\n",
       "      <td>416.0</td>\n",
       "      <td>14156.0</td>\n",
       "      <td>9044.0</td>\n",
       "      <td>5533.0</td>\n",
       "      <td>5718.0</td>\n",
       "      <td>116624.0</td>\n",
       "      <td>3816.0</td>\n",
       "      <td>155543.0</td>\n",
       "    </tr>\n",
       "    <tr>\n",
       "      <th>4</th>\n",
       "      <td>2024</td>\n",
       "      <td>1</td>\n",
       "      <td>Chubut</td>\n",
       "      <td>111.0</td>\n",
       "      <td>1083.0</td>\n",
       "      <td>43828.0</td>\n",
       "      <td>31885.0</td>\n",
       "      <td>23024.0</td>\n",
       "      <td>20261.0</td>\n",
       "      <td>33844.0</td>\n",
       "      <td>16640.0</td>\n",
       "      <td>170676.0</td>\n",
       "    </tr>\n",
       "  </tbody>\n",
       "</table>\n",
       "</div>"
      ],
      "text/plain": [
       "    Año  Trimestre        Provincia  HASTA 512 kbps  + 512 Kbps - 1 Mbps  \\\n",
       "0  2024          1     Buenos Aires         26002.0              22510.0   \n",
       "1  2024          1  Capital Federal           516.0               5418.0   \n",
       "2  2024          1        Catamarca            71.0                176.0   \n",
       "3  2024          1            Chaco           236.0                416.0   \n",
       "4  2024          1           Chubut           111.0               1083.0   \n",
       "\n",
       "   + 1 Mbps - 6 Mbps  + 6 Mbps - 10 Mbps  + 10 Mbps - 20 Mbps  \\\n",
       "0           221185.0            233225.0             241778.0   \n",
       "1            29753.0             51415.0              37369.0   \n",
       "2             2872.0              3424.0               4204.0   \n",
       "3            14156.0              9044.0               5533.0   \n",
       "4            43828.0             31885.0              23024.0   \n",
       "\n",
       "   + 20 Mbps - 30 Mbps  + 30 Mbps     OTROS      Total  \n",
       "0             106418.0  4068292.0  125147.0  5044557.0  \n",
       "1               5957.0  1374283.0       0.0  1504711.0  \n",
       "2               1822.0    62294.0      70.0    74933.0  \n",
       "3               5718.0   116624.0    3816.0   155543.0  \n",
       "4              20261.0    33844.0   16640.0   170676.0  "
      ]
     },
     "execution_count": 35,
     "metadata": {},
     "output_type": "execute_result"
    }
   ],
   "source": [
    "df_accesos_velocidad.head()"
   ]
  },
  {
   "cell_type": "markdown",
   "metadata": {},
   "source": [
    "#### **Valores Nulos** \n",
    "- #### Solo la columna ``OTROS`` tiene 6 valores nulos, lo cual es mínimo en relación al tamaño del DataFrame. Por lo tanto, serán eliminadas."
   ]
  },
  {
   "cell_type": "code",
   "execution_count": 38,
   "metadata": {},
   "outputs": [
    {
     "name": "stdout",
     "output_type": "stream",
     "text": [
      "<class 'pandas.core.frame.DataFrame'>\n",
      "RangeIndex: 984 entries, 0 to 983\n",
      "Data columns (total 12 columns):\n",
      " #   Column               Non-Null Count  Dtype  \n",
      "---  ------               --------------  -----  \n",
      " 0   Año                  984 non-null    int64  \n",
      " 1   Trimestre            984 non-null    int64  \n",
      " 2   Provincia            984 non-null    object \n",
      " 3   HASTA 512 kbps       984 non-null    float64\n",
      " 4   + 512 Kbps - 1 Mbps  984 non-null    float64\n",
      " 5   + 1 Mbps - 6 Mbps    984 non-null    float64\n",
      " 6   + 6 Mbps - 10 Mbps   984 non-null    float64\n",
      " 7   + 10 Mbps - 20 Mbps  984 non-null    float64\n",
      " 8   + 20 Mbps - 30 Mbps  984 non-null    float64\n",
      " 9   + 30 Mbps            984 non-null    float64\n",
      " 10  OTROS                978 non-null    float64\n",
      " 11  Total                984 non-null    float64\n",
      "dtypes: float64(9), int64(2), object(1)\n",
      "memory usage: 92.4+ KB\n"
     ]
    }
   ],
   "source": [
    "df_accesos_velocidad.info()\n"
   ]
  },
  {
   "cell_type": "code",
   "execution_count": 40,
   "metadata": {},
   "outputs": [],
   "source": [
    "# Se eliminan las filas con valores nulos en la columna 'OTROS'\n",
    "df_accesos_velocidad = df_accesos_velocidad.dropna(subset=['OTROS'])"
   ]
  },
  {
   "cell_type": "markdown",
   "metadata": {},
   "source": [
    "#### **Distribuciones**:\n",
    "- #### Las columnas como + 512 Kbps - 1 Mbps y 1 Mbps - 6 Mbps tienen valores muy amplios, desde 0 hasta cientos de miles, lo que refleja la diferencia en el número de conexiones por provincia."
   ]
  },
  {
   "cell_type": "code",
   "execution_count": 39,
   "metadata": {},
   "outputs": [
    {
     "data": {
      "text/html": [
       "<div>\n",
       "<style scoped>\n",
       "    .dataframe tbody tr th:only-of-type {\n",
       "        vertical-align: middle;\n",
       "    }\n",
       "\n",
       "    .dataframe tbody tr th {\n",
       "        vertical-align: top;\n",
       "    }\n",
       "\n",
       "    .dataframe thead th {\n",
       "        text-align: right;\n",
       "    }\n",
       "</style>\n",
       "<table border=\"1\" class=\"dataframe\">\n",
       "  <thead>\n",
       "    <tr style=\"text-align: right;\">\n",
       "      <th></th>\n",
       "      <th>Año</th>\n",
       "      <th>Trimestre</th>\n",
       "      <th>HASTA 512 kbps</th>\n",
       "      <th>+ 512 Kbps - 1 Mbps</th>\n",
       "      <th>+ 1 Mbps - 6 Mbps</th>\n",
       "      <th>+ 6 Mbps - 10 Mbps</th>\n",
       "      <th>+ 10 Mbps - 20 Mbps</th>\n",
       "      <th>+ 20 Mbps - 30 Mbps</th>\n",
       "      <th>+ 30 Mbps</th>\n",
       "      <th>OTROS</th>\n",
       "      <th>Total</th>\n",
       "    </tr>\n",
       "  </thead>\n",
       "  <tbody>\n",
       "    <tr>\n",
       "      <th>count</th>\n",
       "      <td>984.000000</td>\n",
       "      <td>984.000000</td>\n",
       "      <td>984.000000</td>\n",
       "      <td>984.000000</td>\n",
       "      <td>9.840000e+02</td>\n",
       "      <td>984.000000</td>\n",
       "      <td>984.000000</td>\n",
       "      <td>984.000000</td>\n",
       "      <td>9.840000e+02</td>\n",
       "      <td>978.000000</td>\n",
       "      <td>9.840000e+02</td>\n",
       "    </tr>\n",
       "    <tr>\n",
       "      <th>mean</th>\n",
       "      <td>2018.658537</td>\n",
       "      <td>2.463415</td>\n",
       "      <td>1967.099593</td>\n",
       "      <td>9134.977642</td>\n",
       "      <td>1.347227e+05</td>\n",
       "      <td>38149.252033</td>\n",
       "      <td>37076.536585</td>\n",
       "      <td>20064.129065</td>\n",
       "      <td>1.157046e+05</td>\n",
       "      <td>6267.931493</td>\n",
       "      <td>3.630490e+05</td>\n",
       "    </tr>\n",
       "    <tr>\n",
       "      <th>std</th>\n",
       "      <td>3.002418</td>\n",
       "      <td>1.128870</td>\n",
       "      <td>12757.059460</td>\n",
       "      <td>20796.531611</td>\n",
       "      <td>3.245957e+05</td>\n",
       "      <td>64289.080670</td>\n",
       "      <td>88748.124134</td>\n",
       "      <td>69777.001896</td>\n",
       "      <td>4.502564e+05</td>\n",
       "      <td>14923.597928</td>\n",
       "      <td>7.810485e+05</td>\n",
       "    </tr>\n",
       "    <tr>\n",
       "      <th>min</th>\n",
       "      <td>2014.000000</td>\n",
       "      <td>1.000000</td>\n",
       "      <td>6.000000</td>\n",
       "      <td>0.000000</td>\n",
       "      <td>1.336000e+03</td>\n",
       "      <td>0.000000</td>\n",
       "      <td>0.000000</td>\n",
       "      <td>0.000000</td>\n",
       "      <td>0.000000e+00</td>\n",
       "      <td>-1945.000000</td>\n",
       "      <td>1.240600e+04</td>\n",
       "    </tr>\n",
       "    <tr>\n",
       "      <th>25%</th>\n",
       "      <td>2016.000000</td>\n",
       "      <td>1.000000</td>\n",
       "      <td>41.000000</td>\n",
       "      <td>384.750000</td>\n",
       "      <td>2.417200e+04</td>\n",
       "      <td>3662.500000</td>\n",
       "      <td>2336.250000</td>\n",
       "      <td>40.000000</td>\n",
       "      <td>1.175000e+01</td>\n",
       "      <td>0.000000</td>\n",
       "      <td>6.082625e+04</td>\n",
       "    </tr>\n",
       "    <tr>\n",
       "      <th>50%</th>\n",
       "      <td>2019.000000</td>\n",
       "      <td>2.000000</td>\n",
       "      <td>107.000000</td>\n",
       "      <td>2217.500000</td>\n",
       "      <td>4.285500e+04</td>\n",
       "      <td>13040.500000</td>\n",
       "      <td>10115.500000</td>\n",
       "      <td>1559.820000</td>\n",
       "      <td>3.272500e+03</td>\n",
       "      <td>165.500000</td>\n",
       "      <td>1.109070e+05</td>\n",
       "    </tr>\n",
       "    <tr>\n",
       "      <th>75%</th>\n",
       "      <td>2021.000000</td>\n",
       "      <td>3.000000</td>\n",
       "      <td>467.250000</td>\n",
       "      <td>6946.750000</td>\n",
       "      <td>8.389625e+04</td>\n",
       "      <td>41836.750000</td>\n",
       "      <td>26436.000000</td>\n",
       "      <td>9996.250000</td>\n",
       "      <td>3.894525e+04</td>\n",
       "      <td>6617.250000</td>\n",
       "      <td>1.921040e+05</td>\n",
       "    </tr>\n",
       "    <tr>\n",
       "      <th>max</th>\n",
       "      <td>2024.000000</td>\n",
       "      <td>4.000000</td>\n",
       "      <td>238920.000000</td>\n",
       "      <td>171244.480000</td>\n",
       "      <td>2.299705e+06</td>\n",
       "      <td>403575.000000</td>\n",
       "      <td>886678.000000</td>\n",
       "      <td>949093.000000</td>\n",
       "      <td>4.068292e+06</td>\n",
       "      <td>125147.000000</td>\n",
       "      <td>5.044557e+06</td>\n",
       "    </tr>\n",
       "  </tbody>\n",
       "</table>\n",
       "</div>"
      ],
      "text/plain": [
       "               Año   Trimestre  HASTA 512 kbps  + 512 Kbps - 1 Mbps  \\\n",
       "count   984.000000  984.000000      984.000000           984.000000   \n",
       "mean   2018.658537    2.463415     1967.099593          9134.977642   \n",
       "std       3.002418    1.128870    12757.059460         20796.531611   \n",
       "min    2014.000000    1.000000        6.000000             0.000000   \n",
       "25%    2016.000000    1.000000       41.000000           384.750000   \n",
       "50%    2019.000000    2.000000      107.000000          2217.500000   \n",
       "75%    2021.000000    3.000000      467.250000          6946.750000   \n",
       "max    2024.000000    4.000000   238920.000000        171244.480000   \n",
       "\n",
       "       + 1 Mbps - 6 Mbps  + 6 Mbps - 10 Mbps  + 10 Mbps - 20 Mbps  \\\n",
       "count       9.840000e+02          984.000000           984.000000   \n",
       "mean        1.347227e+05        38149.252033         37076.536585   \n",
       "std         3.245957e+05        64289.080670         88748.124134   \n",
       "min         1.336000e+03            0.000000             0.000000   \n",
       "25%         2.417200e+04         3662.500000          2336.250000   \n",
       "50%         4.285500e+04        13040.500000         10115.500000   \n",
       "75%         8.389625e+04        41836.750000         26436.000000   \n",
       "max         2.299705e+06       403575.000000        886678.000000   \n",
       "\n",
       "       + 20 Mbps - 30 Mbps     + 30 Mbps          OTROS         Total  \n",
       "count           984.000000  9.840000e+02     978.000000  9.840000e+02  \n",
       "mean          20064.129065  1.157046e+05    6267.931493  3.630490e+05  \n",
       "std           69777.001896  4.502564e+05   14923.597928  7.810485e+05  \n",
       "min               0.000000  0.000000e+00   -1945.000000  1.240600e+04  \n",
       "25%              40.000000  1.175000e+01       0.000000  6.082625e+04  \n",
       "50%            1559.820000  3.272500e+03     165.500000  1.109070e+05  \n",
       "75%            9996.250000  3.894525e+04    6617.250000  1.921040e+05  \n",
       "max          949093.000000  4.068292e+06  125147.000000  5.044557e+06  "
      ]
     },
     "execution_count": 39,
     "metadata": {},
     "output_type": "execute_result"
    }
   ],
   "source": [
    "df_accesos_velocidad.describe()"
   ]
  },
  {
   "cell_type": "markdown",
   "metadata": {},
   "source": [
    "---------"
   ]
  },
  {
   "cell_type": "markdown",
   "metadata": {},
   "source": [
    "### **``df_penetracion_poblacion``**: alcance de los servicios de internet en la población general\n"
   ]
  },
  {
   "cell_type": "markdown",
   "metadata": {},
   "source": [
    "#### **Estructura:**\n",
    "\n",
    "- #### El DataFrame tiene 984 entradas y 4 columnas: ``Año``, ``Trimestre``, ``Provincia`` y `Accesos por cada 100 hab`.\n",
    "- #### No tiene valores nulos."
   ]
  },
  {
   "cell_type": "code",
   "execution_count": 44,
   "metadata": {},
   "outputs": [
    {
     "data": {
      "text/plain": [
       "(984, 4)"
      ]
     },
     "execution_count": 44,
     "metadata": {},
     "output_type": "execute_result"
    }
   ],
   "source": [
    "df_penetracion_poblacion.shape"
   ]
  },
  {
   "cell_type": "code",
   "execution_count": 42,
   "metadata": {},
   "outputs": [
    {
     "data": {
      "text/html": [
       "<div>\n",
       "<style scoped>\n",
       "    .dataframe tbody tr th:only-of-type {\n",
       "        vertical-align: middle;\n",
       "    }\n",
       "\n",
       "    .dataframe tbody tr th {\n",
       "        vertical-align: top;\n",
       "    }\n",
       "\n",
       "    .dataframe thead th {\n",
       "        text-align: right;\n",
       "    }\n",
       "</style>\n",
       "<table border=\"1\" class=\"dataframe\">\n",
       "  <thead>\n",
       "    <tr style=\"text-align: right;\">\n",
       "      <th></th>\n",
       "      <th>Año</th>\n",
       "      <th>Trimestre</th>\n",
       "      <th>Provincia</th>\n",
       "      <th>Accesos por cada 100 hab</th>\n",
       "    </tr>\n",
       "  </thead>\n",
       "  <tbody>\n",
       "    <tr>\n",
       "      <th>0</th>\n",
       "      <td>2024</td>\n",
       "      <td>1</td>\n",
       "      <td>Buenos Aires</td>\n",
       "      <td>27.80</td>\n",
       "    </tr>\n",
       "    <tr>\n",
       "      <th>1</th>\n",
       "      <td>2024</td>\n",
       "      <td>1</td>\n",
       "      <td>Capital Federal</td>\n",
       "      <td>48.78</td>\n",
       "    </tr>\n",
       "    <tr>\n",
       "      <th>2</th>\n",
       "      <td>2024</td>\n",
       "      <td>1</td>\n",
       "      <td>Catamarca</td>\n",
       "      <td>17.50</td>\n",
       "    </tr>\n",
       "    <tr>\n",
       "      <th>3</th>\n",
       "      <td>2024</td>\n",
       "      <td>1</td>\n",
       "      <td>Chaco</td>\n",
       "      <td>12.48</td>\n",
       "    </tr>\n",
       "    <tr>\n",
       "      <th>4</th>\n",
       "      <td>2024</td>\n",
       "      <td>1</td>\n",
       "      <td>Chubut</td>\n",
       "      <td>26.02</td>\n",
       "    </tr>\n",
       "  </tbody>\n",
       "</table>\n",
       "</div>"
      ],
      "text/plain": [
       "    Año  Trimestre        Provincia  Accesos por cada 100 hab\n",
       "0  2024          1     Buenos Aires                     27.80\n",
       "1  2024          1  Capital Federal                     48.78\n",
       "2  2024          1        Catamarca                     17.50\n",
       "3  2024          1            Chaco                     12.48\n",
       "4  2024          1           Chubut                     26.02"
      ]
     },
     "execution_count": 42,
     "metadata": {},
     "output_type": "execute_result"
    }
   ],
   "source": [
    "df_penetracion_poblacion.head()"
   ]
  },
  {
   "cell_type": "markdown",
   "metadata": {},
   "source": [
    "#### **Distribución**\n",
    "- #### La columna ``Accesos por cada 100 hab`` tiene una media de 15.5 accesos por cada 100 habitantes, con un máximo de 52 accesos y un mínimo de 2.68 accesos.\n",
    "- #### Los valores más altos de penetración indican provincias con mejor acceso a internet en relación a su población."
   ]
  },
  {
   "cell_type": "code",
   "execution_count": 43,
   "metadata": {},
   "outputs": [
    {
     "name": "stdout",
     "output_type": "stream",
     "text": [
      "<class 'pandas.core.frame.DataFrame'>\n",
      "RangeIndex: 984 entries, 0 to 983\n",
      "Data columns (total 4 columns):\n",
      " #   Column                    Non-Null Count  Dtype  \n",
      "---  ------                    --------------  -----  \n",
      " 0   Año                       984 non-null    int64  \n",
      " 1   Trimestre                 984 non-null    int64  \n",
      " 2   Provincia                 984 non-null    object \n",
      " 3   Accesos por cada 100 hab  984 non-null    float64\n",
      "dtypes: float64(1), int64(2), object(1)\n",
      "memory usage: 30.9+ KB\n"
     ]
    },
    {
     "data": {
      "text/html": [
       "<div>\n",
       "<style scoped>\n",
       "    .dataframe tbody tr th:only-of-type {\n",
       "        vertical-align: middle;\n",
       "    }\n",
       "\n",
       "    .dataframe tbody tr th {\n",
       "        vertical-align: top;\n",
       "    }\n",
       "\n",
       "    .dataframe thead th {\n",
       "        text-align: right;\n",
       "    }\n",
       "</style>\n",
       "<table border=\"1\" class=\"dataframe\">\n",
       "  <thead>\n",
       "    <tr style=\"text-align: right;\">\n",
       "      <th></th>\n",
       "      <th>Año</th>\n",
       "      <th>Trimestre</th>\n",
       "      <th>Accesos por cada 100 hab</th>\n",
       "    </tr>\n",
       "  </thead>\n",
       "  <tbody>\n",
       "    <tr>\n",
       "      <th>count</th>\n",
       "      <td>984.000000</td>\n",
       "      <td>984.000000</td>\n",
       "      <td>984.000000</td>\n",
       "    </tr>\n",
       "    <tr>\n",
       "      <th>mean</th>\n",
       "      <td>2018.634146</td>\n",
       "      <td>2.463415</td>\n",
       "      <td>15.537902</td>\n",
       "    </tr>\n",
       "    <tr>\n",
       "      <th>std</th>\n",
       "      <td>2.962686</td>\n",
       "      <td>1.128870</td>\n",
       "      <td>9.205334</td>\n",
       "    </tr>\n",
       "    <tr>\n",
       "      <th>min</th>\n",
       "      <td>2014.000000</td>\n",
       "      <td>1.000000</td>\n",
       "      <td>2.684669</td>\n",
       "    </tr>\n",
       "    <tr>\n",
       "      <th>25%</th>\n",
       "      <td>2016.000000</td>\n",
       "      <td>1.000000</td>\n",
       "      <td>8.909018</td>\n",
       "    </tr>\n",
       "    <tr>\n",
       "      <th>50%</th>\n",
       "      <td>2019.000000</td>\n",
       "      <td>2.000000</td>\n",
       "      <td>13.571293</td>\n",
       "    </tr>\n",
       "    <tr>\n",
       "      <th>75%</th>\n",
       "      <td>2021.000000</td>\n",
       "      <td>3.000000</td>\n",
       "      <td>19.972549</td>\n",
       "    </tr>\n",
       "    <tr>\n",
       "      <th>max</th>\n",
       "      <td>2024.000000</td>\n",
       "      <td>4.000000</td>\n",
       "      <td>52.236739</td>\n",
       "    </tr>\n",
       "  </tbody>\n",
       "</table>\n",
       "</div>"
      ],
      "text/plain": [
       "               Año   Trimestre  Accesos por cada 100 hab\n",
       "count   984.000000  984.000000                984.000000\n",
       "mean   2018.634146    2.463415                 15.537902\n",
       "std       2.962686    1.128870                  9.205334\n",
       "min    2014.000000    1.000000                  2.684669\n",
       "25%    2016.000000    1.000000                  8.909018\n",
       "50%    2019.000000    2.000000                 13.571293\n",
       "75%    2021.000000    3.000000                 19.972549\n",
       "max    2024.000000    4.000000                 52.236739"
      ]
     },
     "execution_count": 43,
     "metadata": {},
     "output_type": "execute_result"
    }
   ],
   "source": [
    "df_penetracion_poblacion.info()\n",
    "df_penetracion_poblacion.describe()\n"
   ]
  },
  {
   "cell_type": "markdown",
   "metadata": {},
   "source": [
    "--------"
   ]
  },
  {
   "cell_type": "markdown",
   "metadata": {},
   "source": [
    "### **``df_penetracion_hogares``**: alcance de los servicios de internet en los hogares.\n"
   ]
  },
  {
   "cell_type": "markdown",
   "metadata": {},
   "source": [
    "#### **Estructura:**\n",
    "- #### El DataFrame tiene 984 entradas y 4 columnas: Año, Trimestre, Provincia y Accesos por cada 100 hogares.\n",
    "- #### No hay valores nulos."
   ]
  },
  {
   "cell_type": "code",
   "execution_count": 45,
   "metadata": {},
   "outputs": [
    {
     "data": {
      "text/plain": [
       "(984, 4)"
      ]
     },
     "execution_count": 45,
     "metadata": {},
     "output_type": "execute_result"
    }
   ],
   "source": [
    "df_penetracion_hogares.shape"
   ]
  },
  {
   "cell_type": "code",
   "execution_count": 46,
   "metadata": {},
   "outputs": [
    {
     "data": {
      "text/html": [
       "<div>\n",
       "<style scoped>\n",
       "    .dataframe tbody tr th:only-of-type {\n",
       "        vertical-align: middle;\n",
       "    }\n",
       "\n",
       "    .dataframe tbody tr th {\n",
       "        vertical-align: top;\n",
       "    }\n",
       "\n",
       "    .dataframe thead th {\n",
       "        text-align: right;\n",
       "    }\n",
       "</style>\n",
       "<table border=\"1\" class=\"dataframe\">\n",
       "  <thead>\n",
       "    <tr style=\"text-align: right;\">\n",
       "      <th></th>\n",
       "      <th>Año</th>\n",
       "      <th>Trimestre</th>\n",
       "      <th>Provincia</th>\n",
       "      <th>Accesos por cada 100 hogares</th>\n",
       "    </tr>\n",
       "  </thead>\n",
       "  <tbody>\n",
       "    <tr>\n",
       "      <th>0</th>\n",
       "      <td>2024</td>\n",
       "      <td>1</td>\n",
       "      <td>Buenos Aires</td>\n",
       "      <td>81.10</td>\n",
       "    </tr>\n",
       "    <tr>\n",
       "      <th>1</th>\n",
       "      <td>2024</td>\n",
       "      <td>1</td>\n",
       "      <td>Capital Federal</td>\n",
       "      <td>119.53</td>\n",
       "    </tr>\n",
       "    <tr>\n",
       "      <th>2</th>\n",
       "      <td>2024</td>\n",
       "      <td>1</td>\n",
       "      <td>Catamarca</td>\n",
       "      <td>68.82</td>\n",
       "    </tr>\n",
       "    <tr>\n",
       "      <th>3</th>\n",
       "      <td>2024</td>\n",
       "      <td>1</td>\n",
       "      <td>Chaco</td>\n",
       "      <td>46.70</td>\n",
       "    </tr>\n",
       "    <tr>\n",
       "      <th>4</th>\n",
       "      <td>2024</td>\n",
       "      <td>1</td>\n",
       "      <td>Chubut</td>\n",
       "      <td>84.89</td>\n",
       "    </tr>\n",
       "  </tbody>\n",
       "</table>\n",
       "</div>"
      ],
      "text/plain": [
       "    Año  Trimestre        Provincia  Accesos por cada 100 hogares\n",
       "0  2024          1     Buenos Aires                         81.10\n",
       "1  2024          1  Capital Federal                        119.53\n",
       "2  2024          1        Catamarca                         68.82\n",
       "3  2024          1            Chaco                         46.70\n",
       "4  2024          1           Chubut                         84.89"
      ]
     },
     "execution_count": 46,
     "metadata": {},
     "output_type": "execute_result"
    }
   ],
   "source": [
    "df_penetracion_hogares.head()"
   ]
  },
  {
   "cell_type": "markdown",
   "metadata": {},
   "source": [
    "#### **Distribuciones**:\n",
    "- #### La columna ``Accesos por cada 100 hogares`` tiene una media de 52 accesos por cada 100 hogares, con un máximo de 124 accesos y un mínimo de 9.34 accesos.\n",
    "Los accesos en los hogares son claramente más altos que en la población general, y esto tiene sentido, ya que muchas familias tienen más de un acceso por hogar."
   ]
  },
  {
   "cell_type": "code",
   "execution_count": 47,
   "metadata": {},
   "outputs": [
    {
     "name": "stdout",
     "output_type": "stream",
     "text": [
      "<class 'pandas.core.frame.DataFrame'>\n",
      "RangeIndex: 984 entries, 0 to 983\n",
      "Data columns (total 4 columns):\n",
      " #   Column                        Non-Null Count  Dtype  \n",
      "---  ------                        --------------  -----  \n",
      " 0   Año                           984 non-null    int64  \n",
      " 1   Trimestre                     984 non-null    int64  \n",
      " 2   Provincia                     984 non-null    object \n",
      " 3   Accesos por cada 100 hogares  984 non-null    float64\n",
      "dtypes: float64(1), int64(2), object(1)\n",
      "memory usage: 30.9+ KB\n"
     ]
    },
    {
     "data": {
      "text/html": [
       "<div>\n",
       "<style scoped>\n",
       "    .dataframe tbody tr th:only-of-type {\n",
       "        vertical-align: middle;\n",
       "    }\n",
       "\n",
       "    .dataframe tbody tr th {\n",
       "        vertical-align: top;\n",
       "    }\n",
       "\n",
       "    .dataframe thead th {\n",
       "        text-align: right;\n",
       "    }\n",
       "</style>\n",
       "<table border=\"1\" class=\"dataframe\">\n",
       "  <thead>\n",
       "    <tr style=\"text-align: right;\">\n",
       "      <th></th>\n",
       "      <th>Año</th>\n",
       "      <th>Trimestre</th>\n",
       "      <th>Accesos por cada 100 hogares</th>\n",
       "    </tr>\n",
       "  </thead>\n",
       "  <tbody>\n",
       "    <tr>\n",
       "      <th>count</th>\n",
       "      <td>984.000000</td>\n",
       "      <td>984.000000</td>\n",
       "      <td>984.000000</td>\n",
       "    </tr>\n",
       "    <tr>\n",
       "      <th>mean</th>\n",
       "      <td>2018.634146</td>\n",
       "      <td>2.463415</td>\n",
       "      <td>52.159491</td>\n",
       "    </tr>\n",
       "    <tr>\n",
       "      <th>std</th>\n",
       "      <td>2.962686</td>\n",
       "      <td>1.128870</td>\n",
       "      <td>24.036101</td>\n",
       "    </tr>\n",
       "    <tr>\n",
       "      <th>min</th>\n",
       "      <td>2014.000000</td>\n",
       "      <td>1.000000</td>\n",
       "      <td>9.347208</td>\n",
       "    </tr>\n",
       "    <tr>\n",
       "      <th>25%</th>\n",
       "      <td>2016.000000</td>\n",
       "      <td>1.000000</td>\n",
       "      <td>33.204632</td>\n",
       "    </tr>\n",
       "    <tr>\n",
       "      <th>50%</th>\n",
       "      <td>2019.000000</td>\n",
       "      <td>2.000000</td>\n",
       "      <td>49.435000</td>\n",
       "    </tr>\n",
       "    <tr>\n",
       "      <th>75%</th>\n",
       "      <td>2021.000000</td>\n",
       "      <td>3.000000</td>\n",
       "      <td>65.706626</td>\n",
       "    </tr>\n",
       "    <tr>\n",
       "      <th>max</th>\n",
       "      <td>2024.000000</td>\n",
       "      <td>4.000000</td>\n",
       "      <td>124.061394</td>\n",
       "    </tr>\n",
       "  </tbody>\n",
       "</table>\n",
       "</div>"
      ],
      "text/plain": [
       "               Año   Trimestre  Accesos por cada 100 hogares\n",
       "count   984.000000  984.000000                    984.000000\n",
       "mean   2018.634146    2.463415                     52.159491\n",
       "std       2.962686    1.128870                     24.036101\n",
       "min    2014.000000    1.000000                      9.347208\n",
       "25%    2016.000000    1.000000                     33.204632\n",
       "50%    2019.000000    2.000000                     49.435000\n",
       "75%    2021.000000    3.000000                     65.706626\n",
       "max    2024.000000    4.000000                    124.061394"
      ]
     },
     "execution_count": 47,
     "metadata": {},
     "output_type": "execute_result"
    }
   ],
   "source": [
    "df_penetracion_hogares.info()\n",
    "df_penetracion_hogares.describe()\n"
   ]
  },
  {
   "cell_type": "markdown",
   "metadata": {},
   "source": [
    "-------"
   ]
  },
  {
   "cell_type": "markdown",
   "metadata": {},
   "source": [
    "### **``df_ingresos``**: información sobre los ingresos generados por los servicios de internet."
   ]
  },
  {
   "cell_type": "markdown",
   "metadata": {},
   "source": [
    "#### **Estructura:**\n",
    "- #### El DataFrame tiene 41 entradas y 4 columnas: ``Año``, ``Trimestre``, ``Ingresos (miles de pesos)`` y `Periodo`.\n",
    "- #### No hay valores nulos\n",
    "- #### La columa ``Año`` tenía un error de tipeo registrando el año 2023 como 2033. Por lo tanto, se lo corrigió registrandolo correctamente."
   ]
  },
  {
   "cell_type": "code",
   "execution_count": 48,
   "metadata": {},
   "outputs": [
    {
     "data": {
      "text/plain": [
       "(41, 4)"
      ]
     },
     "execution_count": 48,
     "metadata": {},
     "output_type": "execute_result"
    }
   ],
   "source": [
    "df_ingresos.shape"
   ]
  },
  {
   "cell_type": "code",
   "execution_count": 49,
   "metadata": {},
   "outputs": [
    {
     "data": {
      "text/html": [
       "<div>\n",
       "<style scoped>\n",
       "    .dataframe tbody tr th:only-of-type {\n",
       "        vertical-align: middle;\n",
       "    }\n",
       "\n",
       "    .dataframe tbody tr th {\n",
       "        vertical-align: top;\n",
       "    }\n",
       "\n",
       "    .dataframe thead th {\n",
       "        text-align: right;\n",
       "    }\n",
       "</style>\n",
       "<table border=\"1\" class=\"dataframe\">\n",
       "  <thead>\n",
       "    <tr style=\"text-align: right;\">\n",
       "      <th></th>\n",
       "      <th>Año</th>\n",
       "      <th>Trimestre</th>\n",
       "      <th>Ingresos (miles de pesos)</th>\n",
       "      <th>Periodo</th>\n",
       "    </tr>\n",
       "  </thead>\n",
       "  <tbody>\n",
       "    <tr>\n",
       "      <th>0</th>\n",
       "      <td>2024</td>\n",
       "      <td>1</td>\n",
       "      <td>2.804191e+08</td>\n",
       "      <td>Ene-Mar 2024</td>\n",
       "    </tr>\n",
       "    <tr>\n",
       "      <th>1</th>\n",
       "      <td>2023</td>\n",
       "      <td>4</td>\n",
       "      <td>1.673760e+08</td>\n",
       "      <td>Oct-Dic 2023</td>\n",
       "    </tr>\n",
       "    <tr>\n",
       "      <th>2</th>\n",
       "      <td>2023</td>\n",
       "      <td>3</td>\n",
       "      <td>1.331066e+08</td>\n",
       "      <td>Jul-Sept 2023</td>\n",
       "    </tr>\n",
       "    <tr>\n",
       "      <th>3</th>\n",
       "      <td>2023</td>\n",
       "      <td>2</td>\n",
       "      <td>1.180603e+08</td>\n",
       "      <td>Jun-Mar 2023</td>\n",
       "    </tr>\n",
       "    <tr>\n",
       "      <th>4</th>\n",
       "      <td>2033</td>\n",
       "      <td>1</td>\n",
       "      <td>1.041350e+08</td>\n",
       "      <td>Ene-Mar 2023</td>\n",
       "    </tr>\n",
       "  </tbody>\n",
       "</table>\n",
       "</div>"
      ],
      "text/plain": [
       "    Año  Trimestre  Ingresos (miles de pesos)        Periodo\n",
       "0  2024          1               2.804191e+08   Ene-Mar 2024\n",
       "1  2023          4               1.673760e+08   Oct-Dic 2023\n",
       "2  2023          3               1.331066e+08  Jul-Sept 2023\n",
       "3  2023          2               1.180603e+08   Jun-Mar 2023\n",
       "4  2033          1               1.041350e+08   Ene-Mar 2023"
      ]
     },
     "execution_count": 49,
     "metadata": {},
     "output_type": "execute_result"
    }
   ],
   "source": [
    "df_ingresos.head()"
   ]
  },
  {
   "cell_type": "code",
   "execution_count": 51,
   "metadata": {},
   "outputs": [],
   "source": [
    "# Corregir el error en el año \"2033\" reemplazándolo por \"2023\"\n",
    "df_ingresos['Año'] = df_ingresos['Año'].replace(2033, 2023)"
   ]
  },
  {
   "cell_type": "code",
   "execution_count": 53,
   "metadata": {},
   "outputs": [
    {
     "name": "stdout",
     "output_type": "stream",
     "text": [
      "<class 'pandas.core.frame.DataFrame'>\n",
      "RangeIndex: 41 entries, 0 to 40\n",
      "Data columns (total 4 columns):\n",
      " #   Column                     Non-Null Count  Dtype  \n",
      "---  ------                     --------------  -----  \n",
      " 0   Año                        41 non-null     int64  \n",
      " 1   Trimestre                  41 non-null     int64  \n",
      " 2   Ingresos (miles de pesos)  41 non-null     float64\n",
      " 3   Periodo                    41 non-null     object \n",
      "dtypes: float64(1), int64(2), object(1)\n",
      "memory usage: 1.4+ KB\n"
     ]
    },
    {
     "data": {
      "text/html": [
       "<div>\n",
       "<style scoped>\n",
       "    .dataframe tbody tr th:only-of-type {\n",
       "        vertical-align: middle;\n",
       "    }\n",
       "\n",
       "    .dataframe tbody tr th {\n",
       "        vertical-align: top;\n",
       "    }\n",
       "\n",
       "    .dataframe thead th {\n",
       "        text-align: right;\n",
       "    }\n",
       "</style>\n",
       "<table border=\"1\" class=\"dataframe\">\n",
       "  <thead>\n",
       "    <tr style=\"text-align: right;\">\n",
       "      <th></th>\n",
       "      <th>Año</th>\n",
       "      <th>Trimestre</th>\n",
       "      <th>Ingresos (miles de pesos)</th>\n",
       "    </tr>\n",
       "  </thead>\n",
       "  <tbody>\n",
       "    <tr>\n",
       "      <th>count</th>\n",
       "      <td>41.000000</td>\n",
       "      <td>41.000000</td>\n",
       "      <td>4.100000e+01</td>\n",
       "    </tr>\n",
       "    <tr>\n",
       "      <th>mean</th>\n",
       "      <td>2018.634146</td>\n",
       "      <td>2.463415</td>\n",
       "      <td>3.885074e+07</td>\n",
       "    </tr>\n",
       "    <tr>\n",
       "      <th>std</th>\n",
       "      <td>2.997967</td>\n",
       "      <td>1.142313</td>\n",
       "      <td>5.422892e+07</td>\n",
       "    </tr>\n",
       "    <tr>\n",
       "      <th>min</th>\n",
       "      <td>2014.000000</td>\n",
       "      <td>1.000000</td>\n",
       "      <td>2.984054e+06</td>\n",
       "    </tr>\n",
       "    <tr>\n",
       "      <th>25%</th>\n",
       "      <td>2016.000000</td>\n",
       "      <td>1.000000</td>\n",
       "      <td>6.912442e+06</td>\n",
       "    </tr>\n",
       "    <tr>\n",
       "      <th>50%</th>\n",
       "      <td>2019.000000</td>\n",
       "      <td>2.000000</td>\n",
       "      <td>2.020741e+07</td>\n",
       "    </tr>\n",
       "    <tr>\n",
       "      <th>75%</th>\n",
       "      <td>2021.000000</td>\n",
       "      <td>3.000000</td>\n",
       "      <td>4.299994e+07</td>\n",
       "    </tr>\n",
       "    <tr>\n",
       "      <th>max</th>\n",
       "      <td>2024.000000</td>\n",
       "      <td>4.000000</td>\n",
       "      <td>2.804191e+08</td>\n",
       "    </tr>\n",
       "  </tbody>\n",
       "</table>\n",
       "</div>"
      ],
      "text/plain": [
       "               Año  Trimestre  Ingresos (miles de pesos)\n",
       "count    41.000000  41.000000               4.100000e+01\n",
       "mean   2018.634146   2.463415               3.885074e+07\n",
       "std       2.997967   1.142313               5.422892e+07\n",
       "min    2014.000000   1.000000               2.984054e+06\n",
       "25%    2016.000000   1.000000               6.912442e+06\n",
       "50%    2019.000000   2.000000               2.020741e+07\n",
       "75%    2021.000000   3.000000               4.299994e+07\n",
       "max    2024.000000   4.000000               2.804191e+08"
      ]
     },
     "execution_count": 53,
     "metadata": {},
     "output_type": "execute_result"
    }
   ],
   "source": [
    "df_ingresos.info()\n",
    "df_ingresos.describe()\n"
   ]
  },
  {
   "cell_type": "markdown",
   "metadata": {},
   "source": [
    "---"
   ]
  },
  {
   "cell_type": "markdown",
   "metadata": {},
   "source": [
    "### **``df_velocidad_prov``**: distribución porcentual de las velocidades de conexión a internet por provincia."
   ]
  },
  {
   "cell_type": "markdown",
   "metadata": {},
   "source": [
    "#### **Estructura:**\n",
    "- #### El DataFrame tiene 984 entradas y 4 columnas: ``Año``, ``Trimestre``, ``Provincia`` y ``Mbps (Media de bajada).``\n",
    "- #### No hay valores nulos."
   ]
  },
  {
   "cell_type": "code",
   "execution_count": 55,
   "metadata": {},
   "outputs": [
    {
     "data": {
      "text/plain": [
       "(984, 4)"
      ]
     },
     "execution_count": 55,
     "metadata": {},
     "output_type": "execute_result"
    }
   ],
   "source": [
    "df_velocidad_prov.shape"
   ]
  },
  {
   "cell_type": "code",
   "execution_count": 56,
   "metadata": {},
   "outputs": [
    {
     "data": {
      "text/html": [
       "<div>\n",
       "<style scoped>\n",
       "    .dataframe tbody tr th:only-of-type {\n",
       "        vertical-align: middle;\n",
       "    }\n",
       "\n",
       "    .dataframe tbody tr th {\n",
       "        vertical-align: top;\n",
       "    }\n",
       "\n",
       "    .dataframe thead th {\n",
       "        text-align: right;\n",
       "    }\n",
       "</style>\n",
       "<table border=\"1\" class=\"dataframe\">\n",
       "  <thead>\n",
       "    <tr style=\"text-align: right;\">\n",
       "      <th></th>\n",
       "      <th>Año</th>\n",
       "      <th>Trimestre</th>\n",
       "      <th>Provincia</th>\n",
       "      <th>Mbps (Media de bajada)</th>\n",
       "    </tr>\n",
       "  </thead>\n",
       "  <tbody>\n",
       "    <tr>\n",
       "      <th>0</th>\n",
       "      <td>2024</td>\n",
       "      <td>1</td>\n",
       "      <td>Buenos Aires</td>\n",
       "      <td>159.13</td>\n",
       "    </tr>\n",
       "    <tr>\n",
       "      <th>1</th>\n",
       "      <td>2024</td>\n",
       "      <td>1</td>\n",
       "      <td>Capital Federal</td>\n",
       "      <td>229.94</td>\n",
       "    </tr>\n",
       "    <tr>\n",
       "      <th>2</th>\n",
       "      <td>2024</td>\n",
       "      <td>1</td>\n",
       "      <td>Catamarca</td>\n",
       "      <td>91.45</td>\n",
       "    </tr>\n",
       "    <tr>\n",
       "      <th>3</th>\n",
       "      <td>2024</td>\n",
       "      <td>1</td>\n",
       "      <td>Chaco</td>\n",
       "      <td>107.51</td>\n",
       "    </tr>\n",
       "    <tr>\n",
       "      <th>4</th>\n",
       "      <td>2024</td>\n",
       "      <td>1</td>\n",
       "      <td>Chubut</td>\n",
       "      <td>20.50</td>\n",
       "    </tr>\n",
       "  </tbody>\n",
       "</table>\n",
       "</div>"
      ],
      "text/plain": [
       "    Año  Trimestre        Provincia  Mbps (Media de bajada)\n",
       "0  2024          1     Buenos Aires                  159.13\n",
       "1  2024          1  Capital Federal                  229.94\n",
       "2  2024          1        Catamarca                   91.45\n",
       "3  2024          1            Chaco                  107.51\n",
       "4  2024          1           Chubut                   20.50"
      ]
     },
     "execution_count": 56,
     "metadata": {},
     "output_type": "execute_result"
    }
   ],
   "source": [
    "df_velocidad_prov.head()"
   ]
  },
  {
   "cell_type": "markdown",
   "metadata": {},
   "source": [
    "#### **Distribuciones**\n",
    "- #### La columna Mbps (Media de bajada) tiene un valor medio de 23 Mbps, con un máximo de 234 Mbps y un mínimo de 2.57 Mbps. Estas variaciones reflejan la diferencia en las velocidades de internet entre provincias.\n",
    "\n",
    "#### **Outliers:**\n",
    "- #### Los valores muy altos reflejan provincias con mejor infraestructura y mayor velocidad de internet. Se los mantienen ya que reflejan la diversidad de las velocidades de conexión entre provincias."
   ]
  },
  {
   "cell_type": "code",
   "execution_count": 57,
   "metadata": {},
   "outputs": [
    {
     "name": "stdout",
     "output_type": "stream",
     "text": [
      "<class 'pandas.core.frame.DataFrame'>\n",
      "RangeIndex: 984 entries, 0 to 983\n",
      "Data columns (total 4 columns):\n",
      " #   Column                  Non-Null Count  Dtype  \n",
      "---  ------                  --------------  -----  \n",
      " 0   Año                     984 non-null    int64  \n",
      " 1   Trimestre               984 non-null    int64  \n",
      " 2   Provincia               984 non-null    object \n",
      " 3   Mbps (Media de bajada)  984 non-null    float64\n",
      "dtypes: float64(1), int64(2), object(1)\n",
      "memory usage: 30.9+ KB\n"
     ]
    },
    {
     "data": {
      "text/html": [
       "<div>\n",
       "<style scoped>\n",
       "    .dataframe tbody tr th:only-of-type {\n",
       "        vertical-align: middle;\n",
       "    }\n",
       "\n",
       "    .dataframe tbody tr th {\n",
       "        vertical-align: top;\n",
       "    }\n",
       "\n",
       "    .dataframe thead th {\n",
       "        text-align: right;\n",
       "    }\n",
       "</style>\n",
       "<table border=\"1\" class=\"dataframe\">\n",
       "  <thead>\n",
       "    <tr style=\"text-align: right;\">\n",
       "      <th></th>\n",
       "      <th>Año</th>\n",
       "      <th>Trimestre</th>\n",
       "      <th>Mbps (Media de bajada)</th>\n",
       "    </tr>\n",
       "  </thead>\n",
       "  <tbody>\n",
       "    <tr>\n",
       "      <th>count</th>\n",
       "      <td>984.000000</td>\n",
       "      <td>984.000000</td>\n",
       "      <td>984.000000</td>\n",
       "    </tr>\n",
       "    <tr>\n",
       "      <th>mean</th>\n",
       "      <td>2018.634146</td>\n",
       "      <td>2.463415</td>\n",
       "      <td>23.186898</td>\n",
       "    </tr>\n",
       "    <tr>\n",
       "      <th>std</th>\n",
       "      <td>2.962686</td>\n",
       "      <td>1.128870</td>\n",
       "      <td>31.623977</td>\n",
       "    </tr>\n",
       "    <tr>\n",
       "      <th>min</th>\n",
       "      <td>2014.000000</td>\n",
       "      <td>1.000000</td>\n",
       "      <td>2.573729</td>\n",
       "    </tr>\n",
       "    <tr>\n",
       "      <th>25%</th>\n",
       "      <td>2016.000000</td>\n",
       "      <td>1.000000</td>\n",
       "      <td>4.762379</td>\n",
       "    </tr>\n",
       "    <tr>\n",
       "      <th>50%</th>\n",
       "      <td>2019.000000</td>\n",
       "      <td>2.000000</td>\n",
       "      <td>9.307228</td>\n",
       "    </tr>\n",
       "    <tr>\n",
       "      <th>75%</th>\n",
       "      <td>2021.000000</td>\n",
       "      <td>3.000000</td>\n",
       "      <td>27.636730</td>\n",
       "    </tr>\n",
       "    <tr>\n",
       "      <th>max</th>\n",
       "      <td>2024.000000</td>\n",
       "      <td>4.000000</td>\n",
       "      <td>234.440000</td>\n",
       "    </tr>\n",
       "  </tbody>\n",
       "</table>\n",
       "</div>"
      ],
      "text/plain": [
       "               Año   Trimestre  Mbps (Media de bajada)\n",
       "count   984.000000  984.000000              984.000000\n",
       "mean   2018.634146    2.463415               23.186898\n",
       "std       2.962686    1.128870               31.623977\n",
       "min    2014.000000    1.000000                2.573729\n",
       "25%    2016.000000    1.000000                4.762379\n",
       "50%    2019.000000    2.000000                9.307228\n",
       "75%    2021.000000    3.000000               27.636730\n",
       "max    2024.000000    4.000000              234.440000"
      ]
     },
     "execution_count": 57,
     "metadata": {},
     "output_type": "execute_result"
    }
   ],
   "source": [
    "df_velocidad_prov.info()\n",
    "df_velocidad_prov.describe()\n"
   ]
  },
  {
   "cell_type": "markdown",
   "metadata": {},
   "source": [
    "-------"
   ]
  },
  {
   "cell_type": "markdown",
   "metadata": {},
   "source": [
    "#### **EXPORTACIÓN DE DATOS**\n",
    "\n",
    "##### Se exportarán por separado, cada uno de los dataframes brevemente procesados en formato CSV para su posterior implementación en una Base de Datos SQL."
   ]
  },
  {
   "cell_type": "code",
   "execution_count": 58,
   "metadata": {},
   "outputs": [],
   "source": [
    "# Se exportan todos los DataFrames a CSV para carga en SQL\n",
    "\n",
    "df_acc_vel_loc.to_csv('accesos_velocidad_localidad.csv', index=False)\n",
    "df_accesos_tecnologia.to_csv('accesos_tecnologia_localidad.csv', index=False)\n",
    "df_accesos_velocidad.to_csv('accesos_por_velocidad.csv', index=False)\n",
    "df_penetracion_poblacion.to_csv('penetracion_internet_poblacion.csv', index=False)\n",
    "df_penetracion_hogares.to_csv('penetracion_internet_hogares.csv', index=False)\n",
    "df_ingresos.to_csv('ingresos_servicios_internet.csv', index=False)\n",
    "df_velocidad_prov.to_csv('velocidad_media_provincia.csv', index=False)\n",
    "\n"
   ]
  }
 ],
 "metadata": {
  "kernelspec": {
   "display_name": "proyectoII_env",
   "language": "python",
   "name": "python3"
  },
  "language_info": {
   "codemirror_mode": {
    "name": "ipython",
    "version": 3
   },
   "file_extension": ".py",
   "mimetype": "text/x-python",
   "name": "python",
   "nbconvert_exporter": "python",
   "pygments_lexer": "ipython3",
   "version": "3.10.11"
  }
 },
 "nbformat": 4,
 "nbformat_minor": 2
}
