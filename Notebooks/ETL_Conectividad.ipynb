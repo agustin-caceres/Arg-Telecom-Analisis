{
 "cells": [
  {
   "cell_type": "markdown",
   "metadata": {},
   "source": [
    "## **PROCESO DE ETL**\n",
    "### PARA EL DATASET *Telefonia_movil*\n",
    "\n",
    "--- --- ---"
   ]
  },
  {
   "cell_type": "code",
   "execution_count": 1,
   "metadata": {},
   "outputs": [],
   "source": [
    "import pandas as pd"
   ]
  },
  {
   "cell_type": "code",
   "execution_count": 5,
   "metadata": {},
   "outputs": [],
   "source": [
    "df_mapa_conectividad = pd.read_excel('datasets\\mapa_conectividad.xlsx', engine='openpyxl')\n"
   ]
  },
  {
   "cell_type": "code",
   "execution_count": 10,
   "metadata": {},
   "outputs": [
    {
     "data": {
      "text/html": [
       "<div>\n",
       "<style scoped>\n",
       "    .dataframe tbody tr th:only-of-type {\n",
       "        vertical-align: middle;\n",
       "    }\n",
       "\n",
       "    .dataframe tbody tr th {\n",
       "        vertical-align: top;\n",
       "    }\n",
       "\n",
       "    .dataframe thead th {\n",
       "        text-align: right;\n",
       "    }\n",
       "</style>\n",
       "<table border=\"1\" class=\"dataframe\">\n",
       "  <thead>\n",
       "    <tr style=\"text-align: right;\">\n",
       "      <th></th>\n",
       "      <th>Provincia</th>\n",
       "      <th>Partido</th>\n",
       "      <th>Localidad</th>\n",
       "      <th>Población</th>\n",
       "      <th>ADSL</th>\n",
       "      <th>Cablemódem</th>\n",
       "      <th>Dial Up</th>\n",
       "      <th>Fibra óptica</th>\n",
       "      <th>Satelital</th>\n",
       "      <th>Wireless</th>\n",
       "      <th>Telefonía Fija</th>\n",
       "      <th>3G</th>\n",
       "      <th>4G</th>\n",
       "      <th>Link</th>\n",
       "      <th>Latitud</th>\n",
       "      <th>Longitud</th>\n",
       "    </tr>\n",
       "  </thead>\n",
       "  <tbody>\n",
       "    <tr>\n",
       "      <th>0</th>\n",
       "      <td>BUENOS AIRES</td>\n",
       "      <td>25 de Mayo</td>\n",
       "      <td>25 de Mayo</td>\n",
       "      <td>23408</td>\n",
       "      <td>SI</td>\n",
       "      <td>SI</td>\n",
       "      <td>--</td>\n",
       "      <td>--</td>\n",
       "      <td>SI</td>\n",
       "      <td>SI</td>\n",
       "      <td>SI</td>\n",
       "      <td>SI</td>\n",
       "      <td>SI</td>\n",
       "      <td>6854100.0</td>\n",
       "      <td>-35.433939</td>\n",
       "      <td>-60.173121</td>\n",
       "    </tr>\n",
       "    <tr>\n",
       "      <th>1</th>\n",
       "      <td>BUENOS AIRES</td>\n",
       "      <td>25 de Mayo</td>\n",
       "      <td>Agustín Mosconi</td>\n",
       "      <td>280</td>\n",
       "      <td>--</td>\n",
       "      <td>--</td>\n",
       "      <td>--</td>\n",
       "      <td>--</td>\n",
       "      <td>--</td>\n",
       "      <td>--</td>\n",
       "      <td>SI</td>\n",
       "      <td>--</td>\n",
       "      <td>--</td>\n",
       "      <td>6854010.0</td>\n",
       "      <td>-35.739217</td>\n",
       "      <td>-60.559063</td>\n",
       "    </tr>\n",
       "    <tr>\n",
       "      <th>2</th>\n",
       "      <td>BUENOS AIRES</td>\n",
       "      <td>25 de Mayo</td>\n",
       "      <td>Del Valle</td>\n",
       "      <td>899</td>\n",
       "      <td>SI</td>\n",
       "      <td>--</td>\n",
       "      <td>--</td>\n",
       "      <td>--</td>\n",
       "      <td>SI</td>\n",
       "      <td>--</td>\n",
       "      <td>--</td>\n",
       "      <td>SI</td>\n",
       "      <td>--</td>\n",
       "      <td>6854020.0</td>\n",
       "      <td>-35.897345</td>\n",
       "      <td>-60.731609</td>\n",
       "    </tr>\n",
       "    <tr>\n",
       "      <th>3</th>\n",
       "      <td>BUENOS AIRES</td>\n",
       "      <td>25 de Mayo</td>\n",
       "      <td>Ernestina</td>\n",
       "      <td>145</td>\n",
       "      <td>SI</td>\n",
       "      <td>--</td>\n",
       "      <td>--</td>\n",
       "      <td>--</td>\n",
       "      <td>--</td>\n",
       "      <td>--</td>\n",
       "      <td>SI</td>\n",
       "      <td>--</td>\n",
       "      <td>--</td>\n",
       "      <td>6854030.0</td>\n",
       "      <td>-35.270234</td>\n",
       "      <td>-59.557503</td>\n",
       "    </tr>\n",
       "    <tr>\n",
       "      <th>4</th>\n",
       "      <td>BUENOS AIRES</td>\n",
       "      <td>25 de Mayo</td>\n",
       "      <td>Gobernador Ugarte</td>\n",
       "      <td>547</td>\n",
       "      <td>--</td>\n",
       "      <td>--</td>\n",
       "      <td>--</td>\n",
       "      <td>--</td>\n",
       "      <td>--</td>\n",
       "      <td>SI</td>\n",
       "      <td>--</td>\n",
       "      <td>--</td>\n",
       "      <td>--</td>\n",
       "      <td>6854040.0</td>\n",
       "      <td>-35.164397</td>\n",
       "      <td>-60.081358</td>\n",
       "    </tr>\n",
       "  </tbody>\n",
       "</table>\n",
       "</div>"
      ],
      "text/plain": [
       "      Provincia     Partido          Localidad  Población ADSL Cablemódem  \\\n",
       "0  BUENOS AIRES  25 de Mayo         25 de Mayo      23408   SI         SI   \n",
       "1  BUENOS AIRES  25 de Mayo    Agustín Mosconi        280   --         --   \n",
       "2  BUENOS AIRES  25 de Mayo          Del Valle        899   SI         --   \n",
       "3  BUENOS AIRES  25 de Mayo          Ernestina        145   SI         --   \n",
       "4  BUENOS AIRES  25 de Mayo  Gobernador Ugarte        547   --         --   \n",
       "\n",
       "  Dial Up Fibra óptica Satelital Wireless Telefonía Fija  3G  4G       Link  \\\n",
       "0      --           --        SI       SI             SI  SI  SI  6854100.0   \n",
       "1      --           --        --       --             SI  --  --  6854010.0   \n",
       "2      --           --        SI       --             --  SI  --  6854020.0   \n",
       "3      --           --        --       --             SI  --  --  6854030.0   \n",
       "4      --           --        --       SI             --  --  --  6854040.0   \n",
       "\n",
       "     Latitud   Longitud  \n",
       "0 -35.433939 -60.173121  \n",
       "1 -35.739217 -60.559063  \n",
       "2 -35.897345 -60.731609  \n",
       "3 -35.270234 -59.557503  \n",
       "4 -35.164397 -60.081358  "
      ]
     },
     "execution_count": 10,
     "metadata": {},
     "output_type": "execute_result"
    }
   ],
   "source": [
    "df_mapa_conectividad.head()"
   ]
  },
  {
   "cell_type": "code",
   "execution_count": 11,
   "metadata": {},
   "outputs": [
    {
     "name": "stdout",
     "output_type": "stream",
     "text": [
      "<class 'pandas.core.frame.DataFrame'>\n",
      "RangeIndex: 4305 entries, 0 to 4304\n",
      "Data columns (total 16 columns):\n",
      " #   Column          Non-Null Count  Dtype  \n",
      "---  ------          --------------  -----  \n",
      " 0   Provincia       4305 non-null   object \n",
      " 1   Partido         4305 non-null   object \n",
      " 2   Localidad       4305 non-null   object \n",
      " 3   Población       4305 non-null   int64  \n",
      " 4   ADSL            4305 non-null   object \n",
      " 5   Cablemódem      4305 non-null   object \n",
      " 6   Dial Up         4305 non-null   object \n",
      " 7   Fibra óptica    4305 non-null   object \n",
      " 8   Satelital       4305 non-null   object \n",
      " 9   Wireless        4305 non-null   object \n",
      " 10  Telefonía Fija  4305 non-null   object \n",
      " 11  3G              4305 non-null   object \n",
      " 12  4G              4305 non-null   object \n",
      " 13  Link            4293 non-null   float64\n",
      " 14  Latitud         4305 non-null   float64\n",
      " 15  Longitud        4305 non-null   float64\n",
      "dtypes: float64(3), int64(1), object(12)\n",
      "memory usage: 538.2+ KB\n"
     ]
    }
   ],
   "source": [
    "df_mapa_conectividad.info()\n"
   ]
  },
  {
   "cell_type": "markdown",
   "metadata": {},
   "source": [
    "### Se reemplazan los valores nulos por 0"
   ]
  },
  {
   "cell_type": "code",
   "execution_count": 13,
   "metadata": {},
   "outputs": [],
   "source": [
    "# Se reemplazan los valores nulos en la columna 'Link' por 0\n",
    "df_mapa_conectividad['Link'] = df_mapa_conectividad['Link'].fillna(0)"
   ]
  },
  {
   "cell_type": "markdown",
   "metadata": {},
   "source": [
    "---"
   ]
  },
  {
   "cell_type": "markdown",
   "metadata": {},
   "source": [
    "#### **EXPORTACIÓN DE DATOS**"
   ]
  },
  {
   "cell_type": "markdown",
   "metadata": {},
   "source": [
    "#### Se exporta el dataset a csv para su carga en la Base de Datos."
   ]
  },
  {
   "cell_type": "code",
   "execution_count": 15,
   "metadata": {},
   "outputs": [],
   "source": [
    "# Se exporta el DataFrame a un archivo CSV\n",
    "df_mapa_conectividad.to_csv('mapa_conectividad.csv', index=False)"
   ]
  }
 ],
 "metadata": {
  "kernelspec": {
   "display_name": "proyectoII_env",
   "language": "python",
   "name": "python3"
  },
  "language_info": {
   "codemirror_mode": {
    "name": "ipython",
    "version": 3
   },
   "file_extension": ".py",
   "mimetype": "text/x-python",
   "name": "python",
   "nbconvert_exporter": "python",
   "pygments_lexer": "ipython3",
   "version": "3.10.11"
  }
 },
 "nbformat": 4,
 "nbformat_minor": 2
}
